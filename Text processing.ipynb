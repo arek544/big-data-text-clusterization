{
 "cells": [
  {
   "cell_type": "markdown",
   "metadata": {},
   "source": [
    "# Text processing"
   ]
  },
  {
   "cell_type": "markdown",
   "metadata": {},
   "source": [
    "## Init spark"
   ]
  },
  {
   "cell_type": "code",
   "execution_count": 11,
   "metadata": {},
   "outputs": [],
   "source": [
    "import findspark\n",
    "findspark.init()\n",
    "from pyspark import SparkContext, SparkConf\n",
    "from pyspark.sql import SparkSession\n",
    "\n",
    "sc = SparkContext(conf=SparkConf())\n",
    "spark = SparkSession(sparkContext=sc)"
   ]
  },
  {
   "cell_type": "markdown",
   "metadata": {},
   "source": [
    "## Dummy data"
   ]
  },
  {
   "cell_type": "code",
   "execution_count": 7,
   "metadata": {},
   "outputs": [],
   "source": [
    "f = open('./books/10000.txt', \"r\")\n",
    "text = f.read()\n"
   ]
  },
  {
   "cell_type": "code",
   "execution_count": 9,
   "metadata": {
    "collapsed": true,
    "jupyter": {
     "outputs_hidden": true
    }
   },
   "outputs": [
    {
     "data": {
      "text/plain": [
       "'A note from Michael Hart, preparer of the 0.1 version.\\n\\nThis file contains a number of versions of the Magna Carta,\\nsome of which were a little mangled in transit.  I am sure\\nour volunteers will find and correct errors I didn\\'t catch,\\nand that version 0.2 - 1.0 will have significant improvements,\\nas well as at least one more version in Latin.\\n\\nVersion 1.0 may contain a dozen different versions.\\n\\n\\n\\n\\n\\nThe Text of Magna Carta\\n\\nJOHN, by the grace of God King of England, Lord of Ireland, Duke of\\nNormandy and Aquitaine, and Count of Anjou, to his archbishops,\\nbishops, abbots, earls, barons, justices, foresters, sheriffs,\\nstewards, servants, and to all his officials and loyal subjects,\\nGreeting.\\n\\nKNOW THAT BEFORE GOD, for the health of our soul and those of our\\nancestors and heirs, to the honour of God, the exaltation of the holy\\nChurch, and the better ordering of our kingdom, at the advice of our\\nreverend fathers Stephen, archbishop of Canterbury, primate of all\\nEngland, and cardinal of the holy Roman Church, Henry archbishop of\\nDublin, William bishop of London, Peter bishop of Winchester, Jocelin\\nbishop of Bath and Glastonbury, Hugh bishop of Lincoln, Walter Bishop\\nof Worcester, William bishop of Coventry, Benedict bishop of\\nRochester, Master Pandulf subdeacon and member of the papal household,\\nBrother Aymeric master of the knighthood of the Temple in England,\\nWilliam Marshal earl of Pembroke, William earl of Salisbury, William\\nearl of Warren, William earl of Arundel, Alan de Galloway constable of\\nScotland, Warin Fitz Gerald, Peter Fitz Herbert, Hubert de Burgh\\nseneschal of Poitou, Hugh de Neville, Matthew Fitz Herbert, Thomas\\nBasset, Alan Basset, Philip Daubeny, Robert de Roppeley, John Marshal,\\nJohn Fitz Hugh, and other loyal subjects:\\n\\n(1) FIRST, THAT WE HAVE GRANTED TO GOD, and by this present charter\\nhave confirmed for us and our heirs in perpetuity, that the English\\nChurch shall be free, and shall have its rights undiminished, and its\\nliberties unimpaired. That we wish this so to be observed, appears\\nfrom the fact that of our own free will, before the outbreak of the\\npresent dispute between us and our barons, we granted and confirmed by\\ncharter the freedom of the Church\\'s elections - a right reckoned to be\\nof the greatest necessity and importance to it - and caused this to be\\nconfirmed by Pope Innocent III. This freedom we shall observe ourselves,\\nand desire to be observed in good faith by our heirs in perpetuity.\\n\\nTO ALL FREE MEN OF OUR KINGDOM we have also granted, for us and our\\nheirs for ever, all the liberties written out below, to have and to\\nkeep for them and their heirs, of us and our heirs:\\n\\n(2) If any earl, baron, or other person that holds lands directly of\\nthe Crown, for military service, shall die, and at his death his heir\\nshall be of full age and owe a `relief\\', the heir shall have his\\ninheritance on payment of the ancient scale of `relief\\'. That is to\\nsay, the heir or heirs of an earl shall pay 100 for the entire earl\\'s\\nbarony, the heir or heirs of a knight 100s. at most for the entire\\nknight\\'s `fee\\', and any man that owes less shall pay less, in\\naccordance with the ancient usage of `fees\\'\\n\\n(3) But if the heir of such a person is under age and a ward, when he\\ncomes of age he shall have his inheritance without `relief\\' or fine.\\n\\n(4) The guardian of the land of an heir who is under age shall take\\nfrom it only reasonable revenues, customary dues, and feudal services.\\nHe shall do this without destruction or damage to men or property. If\\nwe have given the guardianship of the land to a sheriff, or to any\\nperson answerable to us for the revenues, and he commits destruction\\nor damage, we will exact compensation from him, and the land shall be\\nentrusted to two worthy and prudent men of the same `fee\\', who shall\\nbe answerable to us for the revenues, or to the person to whom we have\\nassigned them. If we have given or sold to anyone the guardianship of\\nsuch land, and he causes destruction or damage, he shall lose the\\nguardianship of it, and it shall be handed over to two worthy and\\nprudent men of the same `fee\\', who shall be similarly answerable to\\nus.\\n\\n(5) For so long as a guardian has guardianship of such land, he shall\\nmaintain the houses, parks, fish preserves, ponds, mills, and\\neverything else pertaining to it, from the revenues of the land\\nitself. When the heir comes of age, he shall restore the whole land to\\nhim, stocked with plough teams and such implements of husbandry as the\\nseason demands and the revenues from the land can reasonably bear.\\n\\n(6) Heirs may be given in marriage, but not to someone of lower social\\nstanding. Before a marriage takes place, it shall be\\' made known to\\nthe heir\\'s next-of-kin.\\n\\n(7) At her husband\\'s death, a widow may have her marriage portion and\\ninheritance at once and without trouble. She shall pay nothing for her\\ndower, marriage portion, or any inheritance that she and her husband\\nheld jointly on the day of his death. She may remain in her husband\\'s\\nhouse for forty days after his death, and within this period her dower\\nshall be assigned to her.\\n\\n(8) No widow shall be compelled to marry, so long as she wishes to\\nremain without a husband. But she must give security that she will not\\nmarry without royal consent, if she holds her lands of the Crown, or\\nwithout the consent of whatever other lord she may hold them of.\\n\\n(9) Neither we nor our officials will seize any land or rent in\\npayment of a debt, so long as the debtor has movable goods sufficient\\nto discharge the debt. A debtor\\'s sureties shall not be distrained\\nupon so long as the debtor himself can discharge his debt. If, for\\nlack of means, the debtor is unable to discharge his debt, his\\nsureties shall be answerable for it. If they so desire, they may have\\nthe debtor\\'s lands and rents until they have received satisfaction for\\nthe debt that they paid for him, unless the debtor can show that he\\nhas settled his obligations to them.\\n\\n(10) If anyone who has borrowed a sum of money from Jews dies before\\nthe debt has been repaid, his heir shall pay no interest on the debt\\nfor so long as he remains under age, irrespective of whom he holds his\\nlands. If such a debt falls into the hands of the Crown, it will take\\nnothing except the principal sum specified in the bond.\\n\\n(11) If a man dies owing money to Jews, his wife may have her dower\\nand pay nothing towards the debt from it. If he leaves children that\\nare under age, their needs may also be provided for on a scale\\nappropriate to the size of his holding of lands. The debt is to be\\npaid out of the residue, reserving the service due to his feudal lords.\\nDebts owed to persons other than Jews are to be dealt with similarly.\\n\\n(12) No `scutage\\' or `aid\\' may be levied in our kingdom without its\\ngeneral consent, unless it is for the ransom of our person, to make\\nour eldest son a knight, and (once) to marry our eldest daughter. For\\nthese purposes only a reasonable `aid\\' may be levied. `Aids\\' from the\\ncity of London are to be treated similarly.\\n\\n(13) The city of London shall enjoy all its ancient liberties and\\nfree customs, both by land and by water. We also will and grant that\\nall other cities, boroughs, towns, and ports shall enjoy all their\\nliberties and free customs.\\n\\n (14) To obtain the general consent of the realm for the assessment\\nof an `aid\\' - except in the three cases specified above - or a\\n`scutage\\', we will cause the archbishops, bishops, abbots, earls, and\\ngreater barons to be summoned individually by letter. To those who\\nhold lands directly of us we will cause a general summons to be\\nissued, through the sheriffs and other officials, to come together on\\na fixed day (of which at least forty days notice shall be given) and\\nat a fixed place. In all letters of summons, the cause of the summons\\nwill be stated. When a summons has been issued, the business appointed\\nfor the day shall go forward in accordance with the resolution of\\nthose present, even if not all those who were summoned have appeared.\\n\\n(15) In future we will allow no one to levy an `aid\\' from his free\\nmen, except to ransom his person, to make his eldest son a knight, and\\n(once) to marry his eldest daughter. For these purposes only a\\nreasonable `aid\\' may be levied.\\n\\n(16) No man shall be forced to perform more service for a knight\\'s\\n`fee\\', or other free holding of land, than is due from it.\\n\\n(17) Ordinary lawsuits shall not follow the royal court around, but\\nshall be held in a fixed place.\\n\\n(18) Inquests of novel disseisin, mort d\\'ancestor, and darrein\\npresentment shall be taken only in their proper county court. We\\nourselves, or in our absence abroad our chief justice, will send two\\njustices to each county four times a year, and these justices, with\\nfour knights of the county elected by the county itself, shall hold\\nthe assizes in the county court, on the day and in the place where the\\ncourt meets.\\n\\n(19) If any assizes cannot be taken on the day of the county court, as\\nmany knights and freeholders shall afterwards remain behind, of those\\nwho have attended the court, as will suffice for the administration of\\njustice, having regard to the volume of business to be done.\\n\\n(20) For a trivial offence, a free man shall be fined only in\\nproportion to the degree of his offence, and for a serious offence\\ncorrespondingly, but not so heavily as to deprive him of his\\nlivelihood. In the same way, a merchant shall be spared his\\nmerchandise, and a husbandman the implements of his husbandry, if they\\nfall upon the mercy of a royal court. None of these fines shall be\\nimposed except by the assessment on oath of reputable men of the\\nneighbourhood.\\n\\n(21) Earls and barons shall be fined only by their equals, and in\\nproportion to the gravity of their offence.\\n\\n(22) A fine imposed upon the lay property of a clerk in holy orders\\nshall be assessed upon the same principles, without reference to the\\nvalue of his ecclesiastical benefice.\\n\\n(23) No town or person shall be forced to build bridges over rivers\\nexcept those with an ancient obligation to do so.\\n\\n(24) No sheriff, constable, coroners, or other royal officials are to\\nhold lawsuits that should be held by the royal justices.\\n\\n(25) Every county, hundred, wapentake, and tithing shall remain at\\nits ancient rent, without increase, except the royal demesne manors.\\n\\n(26) If at the death of a man who holds a lay `fee\\' of the Crown, a\\nsheriff or royal official produces royal letters patent of summons for\\na debt due to the Crown, it shall be lawful for them to seize and list\\nmovable goods found in the lay `fee\\' of the dead man to the value of\\nthe debt, as assessed by worthy men. Nothing shall be removed until\\nthe whole debt is paid, when the residue shall be given over to the\\nexecutors to carry out the dead man\\'s will. If no debt is due to the\\nCrown, all the movable goods shall be regarded as the property of the\\ndead man, except the reasonable shares of his wife and children.\\n\\n(27) If a free man dies intestate, his movable goods are to be\\ndistributed by his next-of-kin and friends, under the supervision of\\nthe Church. The rights of his debtors are to be preserved.\\n\\n(28) No constable or other royal official shall take corn or other\\nmovable goods from any man without immediate payment, unless the\\nseller voluntarily offers postponement of this.\\n\\n(29) No constable may compel a knight to pay money for castle-guard if\\nthe knight is willing to undertake the guard in person, or with\\nreasonable excuse to supply some other fit man to do it. A knight\\ntaken or sent on military service shall be excused from castle-guard\\nfor the period of this service.\\n\\n(30) No sheriff, royal official, or other person shall take horses or\\ncarts for transport from any free man, without his consent.\\n\\n(31) Neither we nor any royal official will take wood for our castle,\\nor for any other purpose, without the consent of the owner.\\n\\n(32) We will not keep the lands of people convicted of felony in our\\nhand for longer than a year and a day, after which they shall be\\nreturned to the lords of the `fees\\' concerned.\\n\\n(33) All fish-weirs shall be removed from the Thames, the Medway, and\\nthroughout the whole of England, except on the sea coast.\\n\\n(34) The writ called precipe shall not in future be issued to anyone\\nin respect of any holding of land, if a free man could thereby be\\ndeprived of the right of trial in his own lord\\'s court.\\n\\n(35) There shall be standard measures of wine, ale, and corn (the\\nLondon quarter), throughout the kingdom. There shall also be a\\nstandard width of dyed cloth, russett, and haberject, namely two ells\\nwithin the selvedges. Weights are to be standardised similarly.\\n\\n(36) In future nothing shall be paid or accepted for the issue of a\\nwrit of inquisition of life or limbs. It shall be given gratis, and\\nnot refused.\\n\\n(37) If a man holds land of the Crown by `fee-farm\\', `socage\\', or\\n`burgage\\', and also holds land of someone else for knight\\'s service,\\nwe will not have guardianship of his heir, nor of the land that\\nbelongs to the other person\\'s `fee\\', by virtue of the `fee-farm\\',\\n`socage\\', or `burgage\\', unless the `fee-farm\\' owes knight\\'s service.\\nWe will not have the guardianship of a man\\'s heir, or of land that he\\nholds of someone else, by reason of any small property that he may\\nhold of the Crown for a service of knives, arrows, or the like.\\n\\n(38) In future no official shall place a man on trial upon his own\\nunsupported statement, without producing credible witnesses to the\\ntruth of it.\\n\\n(39) No free man shall be seized or imprisoned, or stripped of his\\nrights or possessions, or outlawed or exiled, or deprived of his\\nstanding in any other way, nor will we proceed with force against him,\\nor send others to do so, except by the lawful judgement of his equals\\nor by the law of the land.\\n\\n(40) To no one will we sell, to no one deny or delay right or justice.\\n\\n(41) All merchants may enter or leave England unharmed and without\\nfear, and may stay or travel within it, by land or water, for purposes\\nof trade, free from all illegal exactions, in accordance with ancient\\nand lawful customs. This, however, does not apply in time of war to\\nmerchants from a country that is at war with us. Any such merchants\\nfound in our country at the outbreak of war shall be detained without\\ninjury to their persons or property, until we or our chief justice\\nhave discovered how our own merchants are being treated in the country\\nat war with us. If our own merchants are safe they shall be safe too.\\n\\n(42) In future it shall be lawful for any man to leave and return to\\nour kingdom unharmed and without fear, by land or water, preserving\\nhis allegiance to us, except in time of war, for some short period,\\nfor the common benefit of the realm. People that have been imprisoned\\nor outlawed in accordance with the law of the land, people from a\\ncountry that is at war with us, and merchants - who shall be dealt\\nwith as stated above - are excepted from this provision.\\n\\n(43) If a man holds lands of any `escheat\\' such as the `honour\\' of\\nWallingford, Nottingham, Boulogne, Lancaster, or of other `escheats\\'\\nin our hand that are baronies, at his death his heir shall give us\\nonly the `relief\\' and service that he would have made to the baron,\\nhad the barony been in the baron\\'s hand. We will hold the `escheat\\' in\\nthe same manner as the baron held it.\\n\\n(44) People who live outside the forest need not in future appear\\nbefore the royal justices of the forest in answer to general\\nsummonses, unless they are actually involved in proceedings or are\\nsureties for someone who has been seized for a forest offence.\\n\\n(45) We will appoint as justices, constables, sheriffs, or other\\nofficials, only men that know the law of the realm and are minded to\\nkeep it well.\\n\\n(46) All barons who have founded abbeys, and have charters of English\\nkings or ancient tenure as evidence of this, may have guardianship of\\nthem when there is no abbot, as is their due.\\n\\n(47) All forests that have been created in our reign shall at once be\\ndisafforested. River-banks that have been enclosed in our reign shall\\nbe treated similarly.\\n\\n(48) All evil customs relating to forests and warrens, foresters,\\nwarreners, sheriffs and their servants, or river-banks and their\\nwardens, are at once to be investigated in every county by twelve\\nsworn knights of the county, and within forty days of their enquiry\\nthe evil customs are to be abolished completely and irrevocably. But\\nwe, or our chief justice if we are not in England, are first to be\\ninformed.\\n\\n(49) We will at once return all hostages and charters delivered up\\nto us by Englishmen as security for peace or for loyal service.\\n***here were some strange characters, not completely removed\\n\\n(50) We will remove completely from their offices the kinsmen of\\nGerard de Ath, Peter, Guy, and Andrew de Chanceaux, Guy de Cigogne, and in\\nfuture they shall hold no offices in England. The\\npeople in question are Engelard de Cigogn, Geoffrey de Martigny and his\\nbrothers, Philip Marc and his brothers, with Geoffrey his nephew,\\nand all their followers.\\n\\n* As soon as peace is restored, we will remove from the kingdom all\\nthe foreign knights, bowmen, their attendants, and the mercenaries\\nthat have come to it, to its harm, with horses and arms.\\n\\n* To any man whom we have deprived or dispossessed of lands,\\ncastles, liberties, or rights, without the lawful judgement of his\\nequals, we will at once restore these. In cases of dispute the\\nmatter shall be resolved by the judgement of the twenty-five\\nbarons referred to below in the clause for securing the peace. In\\ncases, however, where a man was deprived or dispossessed of\\nsomething without the lawful judgement of his equals by our father\\nKing Henry or our brother King Richard, and it remains in our\\nhands or is held by others under our warranty, we shall have\\nrespite for the period commonly allowed to Crusaders, unless a\\nlawsuit had been begun, or an enquiry had been made at our order,\\nbefore we took the Cross as a Crusader. On our return from the\\nCrusade, or if we abandon it, we will at once render justice in\\nfull.\\n\\n* We shall have similar respite in rendering justice in connexion\\nwith forests that are to be disafforested, or to remain forests,\\nwhen these were first aforested by our father Henry or our brother\\nRichard; with the guardianship of lands in another persons fee,\\nwhen we have hitherto had this by virtue of a fee held of us for\\nknights service by a third party; and with abbeys founded in\\nanother persons fee, in which the lord of the fee claims to own a\\nright. On our return from the Crusade, or if we abandon it, we\\nwill at once do full justice to complaints about these matters.\\n\\n* No one shall be arrested or imprisoned on the appeal of a woman\\nfor the death of any person except her husband.\\n\\n* All fines that have been given to us unjustly and against the law\\nof the land, and all fines that we have exacted unjustly, shall be\\nentirely remitted or the matter decided by a majority judgement of\\nthe twenty-five barons referred to below in the clause for\\nsecuring the peace together with Stephen, archbishop of\\nCanterbury, if he can be present, and such others as he wishes to\\nbring with him. If the archbishop cannot be present, proceedings\\nshall continue without him, provided that if any of the\\ntwenty-five barons has been involved in a similar suit himself,\\nhis judgement shall be set aside, and someone else chosen and\\nsworn in his place, as a substitute for the single occasion, by\\nthe rest of the twenty-five.\\n\\n* If we have deprived or dispossessed any Welshmen of lands,\\nliberties, or anything else in England or in Wales, without the\\nlawful judgement of their equals, these are at once to be returned\\nto them. A dispute on this point shall be determined in the\\nMarches by the judgement of equals. English law shall apply to\\nholdings of land in England, Welsh law to those in Wales, and the\\nlaw of the Marches to those in the Marches. The Welsh shall treat\\nus and ours in the same way.\\n\\n* In cases where a Welshman was deprived or dispossessed of\\nanything, without the lawful judgement of his equals, by our\\nfather King Henry or our brother King Richard, and it remains in\\nour hands or is held by others under our warranty, we shall have\\nrespite for the period commonly allowed to Crusaders, unless a\\nlawsuit had been begun, or an enquiry had been made at our order,\\nbefore we took the Cross as a Crusader. But on our return from the\\nCrusade, or if we abandon it, we will at once do full justice\\naccording to the laws of Wales and the said regions.\\n\\n* We will at once return the son of Llywelyn, all Welsh hostages,\\nand the charters delivered to us as security for the peace.\\n\\n* With regard to the return of the sisters and hostages of\\nAlexander, king of Scotland, his liberties and his rights, we will\\ntreat him in the same way as our other barons of England, unless\\nit appears from the charters that we hold from his father William,\\nformerly king of Scotland, that he should be treated otherwise.\\nThis matter shall be resolved by the judgement of his equals in\\nour court.\\n\\n* All these customs and liberties that we have granted shall be\\nobserved in our kingdom in so far as concerns our own relations\\nwith our subjects. Let all men of our kingdom, whether clergy or\\nlaymen, observe them similarly in their relations with their own\\nmen.\\n\\n***Strange characters may have ended here.\\n\\nSINCE WE HAVE GRANTED ALL THESE THINGS for God, for the better\\nordering of our kingdom, and to allay the discord that has arisen\\nbetween us and our barons, and since we desire that they shall be\\nenjoyed in their entirety, with lasting strength, for ever, we give\\nand grant to the barons the following security:\\n\\n* The barons shall elect twenty-five of their number to keep, and\\ncause to be observed with all their might, the peace and liberties\\ngranted and confirmed to them by this charter.\\n\\n* If we, our chief justice, our officials, or any of our servants\\noffend in any respect against any man, or transgress any of the\\narticles of the peace or of this security, and the offence is made\\nknown to four of the said twenty-five barons, they shall come to\\nus - or in our absence from the kingdom to the chief justice - to\\ndeclare it and claim immediate redress. If we, or in our absence\\nabroad the chief justice, make no redress within forty days,\\nreckoning from the day on which the offence was declared to us or\\nto him, the four barons shall refer the matter to the rest of the\\ntwenty-five barons, who may distrain upon and assail us in every\\nway possible, with the support of the whole community of the land,\\nby seizing our castles, lands, possessions, or anything else\\nsaving only our own person and those of the queen and our\\nchildren, until they have secured such redress as they have\\ndetermined upon. Having secured the redress, they may then resume\\ntheir normal obedience to us.\\n\\n* Any man who so desires may take an oath to obey the commands of\\nthe twenty-five barons for the achievement of these ends, and to\\njoin with them in assailing us to the utmost of his power. We give\\npublic and free permission to take this oath to any man who so\\ndesires, and at no time will we prohibit any man from taking it.\\nIndeed, we will compel any of our subjects who are unwilling to\\ntake it to swear it at our command.\\n\\n* If one of the twenty-five barons dies or leaves the country, or is\\nprevented in any other way from discharging his duties, the rest\\nof them shall choose another baron in his place, at their\\ndiscretion, who shall be duly sworn in as they were.\\n\\n* In the event of disagreement among the twenty-five barons on any\\nmatter referred to them for decision, the verdict of the majority\\npresent shall have the same validity as a unanimous verdict of the\\nwhole twenty-five, whether these were all present or some of those\\nsummoned were unwilling or unable to appear.\\n\\n* The twenty-five barons shall swear to obey all the above articles\\nfaithfully, and shall cause them to be obeyed by others to the\\nbest of their power.\\n\\n* We will not seek to procure from anyone, either by our own efforts\\nor those of a third party, anything by which any part of these\\nconcessions or liberties might be revoked or diminished. Should\\nsuch a thing be procured, it shall be null and void and we will at\\nno time make use of it, either ourselves or through a third party.\\n\\nWe have remitted and pardoned fully to all men any ill-will, hurt, or\\ngrudges that have arisen between us and our subjects, whether clergy\\nor laymen, since the beginning of the dispute.\\nWe have in addition remitted fully, and for our own part have also\\npardoned, to all clergy and laymen any offences committed as a result\\nof the said dispute between Easter 1215 AD and the restoration of\\npeace.\\n\\nIn addition we have caused letters patent to be made for the barons,\\nbearing witness to this security and to the concessions set out above,\\nover the seals of Stephen archbishop of Canterbury, Henry archbishop\\nof Dublin, the other bishops named above, and Master Pandulf.\\n\\nIT IS ACCORDINGLY OUR WISH AND COMMAND that the English Church shall\\nbe free, and that men in our kingdom shall have and keep all these\\nliberties, rights, and concessions, well and peaceably in their\\nfulness and entirety for them and their heirs, of us and our heirs, in\\nall things and all places for ever.\\n\\nBoth we and the barons have sworn that all this shall be observed in\\ngood faith and without deceit. Witness the above mentioned people and\\nmany others.\\n\\nGiven by our hand in the meadow that is called Runnymede, between\\nWindsor and Staines, on the fifteenth day of June in the seventeenth\\nyear of our reign.\\n\\n***\\n\\n[There were many missing spaces in this one, not sure I got them all]\\n\\nMagna Carta 1215\\n\\nJohn, by the grace of God, king of England, lord of Ireland, duke of\\nNormandy and Aquitaine, and count of Anjou, to the archbishops,\\nbishops, abbots, earls, barons, justiciars, foresters, sheriffs,\\nstewards, servants, and to all his bailiffs and liege subjects,\\ngreeting. Know that, having regard to God and for the salvation of our\\nsoul, and those of all our ancestors and heirs, and unto the honor of\\nGod and the advancement of holy church, and for the reform of\\nour realm, by advice of our venerable fathers, Stephen archbishop of\\nCanterbury, primate of all England and cardinal of the holy Roman\\nChurch, Henry archbishop of Dublin, William of London, Peter of\\nWinchester, Jocelyn of Bath and Glastonbury, Hugh of Lincoln, Walter of\\nWorcester, William of Coventry, Benedict of Rochester, bishops; of\\nmaster Pandulf, subdeacon and member of the household of our lord the\\nPope, of brother Aymeric (master of the Knights of the Temple in\\nEngland), and of the illustrious men William Marshall earl of Pembroke,\\nWilliam earl of Salisbury, William earl of Warenne, William earl\\nof Arundel, Alan of Galloway (constable of Scotland), Waren Fitz\\nGerald, Peter Fits Herbert, Hubert de Burgh (seneschal of Poitou), Hugh\\nde Neville, Matthew Fitz Herbert, Thomas Basset, Alan Basset, Philip\\nd\\'Aubigny, Robert of Roppesley, John Marshall, John Fitz Hugh, and\\nothers, our liegemen.\\n\\n1. In the first place we have granted to God, and by this our present\\ncharter confirmed for us and our heirs for ever that the English church\\nshall be free, and shall have her rights entire, and her liberties\\ninviolate; and we will that it be thus observed; which is apparent from\\nthis that the freedom of elections, which is reckoned most important\\nand very essential to the English church, we, of our pure and\\nunconstrained will, did grant, and did by our charter confirm and did\\nobtain the ratification of the same from our lord, Pope Innocent\\nIII., before the quarrel arose between us and our barons: and this we\\nwill observe, and our will is that it be observed in good faith by our\\nheirs for ever. We have also granted to all freemen of our kingdom, for\\nus and our heirs for ever, all the underwritten liberties, to be had\\nand held by them and their heirs, of us and our heirs for ever.\\n\\n2. If any of our earls or barons, or others holding of us in chief by\\nmilitary service shall have died, and at the time of his death his heir\\nshall be of full age and owe \"relief\" he shall have his inheritance on\\npayment of the ancient relief, namely the heir or heirs of an earl, 100\\npounds for a whole earl\\'s barony; the heir or heirs of a baron, 100\\npounds for a whole barony; the heir or heirs of a knight, 100 shillings\\nat most for a whole knight\\'s fee; and whoever owes less let him give\\nless, according to the ancient custom officers.\\n\\n3. If, however, the heir of any of the aforesaid has been under age\\nand in wardship, let him have his inheritance without relief and\\nwithout fine when he comes of age.\\n\\n4. The guardian of the land of an heir who is thus under age, shall\\ntake from the land of the heir nothing but reasonably produce,\\nreasonable customs, and reasonable services, and that without\\ndestruction or waste of men or goods; and if we have committed the\\nwardship of the lands of any such minor to the sheriff, or to any other\\nwho is responsible to us for its issues, and he has made destruction or\\nwaste of what he holds in wardship, we will take of him amends, and the\\nland shall be committed to two lawful and discreet men of that fee, who\\nshall be responsible for the issues to us or to him to whom we\\nshall assign them; and if we have given or sold the wardship of any\\nsuch land to anyone and he has there in made destruction or waste, he\\nshall lose that wardship, and it shall be transferred to two lawful and\\ndiscreet men of that fief, who shall be responsible to us in like\\nmanner as aforesaid.\\n\\n5. The guardian, moreover, so long as he has the wardship of the land,\\nshall keep up the houses, parks, fishponds, stanks, mills, and other\\nthings pertaining to the land, out of the issues of the same land; and\\nhe shall restore to the heir, when he has come to full age, all his\\nland, stocked with ploughs and \"waynage,\" according as the season of\\nhusbandry shall require, and the issues of the land can reasonably bear.\\n\\n6. Heirs shall be married without disparagement, yet so that before the\\nmarriage takes place the nearest in blood to that heir shall have notice.\\n\\n7. A widow, after the death of her husband, shall forthwith and\\nwithout difficulty have her marriage portion and inheritance; nor shall\\nshe give anything for her dower, or for her marriage portion, or for\\nthe inheritance which her husband and she held on the day of the death\\nof that husband; and she may remain in the house of her husband for\\nfourty days after his death, within which time her dower shall be\\nassigned to her.\\n\\n8. No widow shall be compelled to marry, so long as she prefers to\\nlive without a husband; provided always that she gives security not to\\nmarry without our consent, if she holds of us, or without the consent\\nof the lord of whom she holds, if she holds of another.\\n\\n9. Neither we nor our bailiffs shall seize any land or rent for any\\ndebt, so long as the chattels of the debtor are sufficient to repay the\\ndebt; nor shall the sureties of the debtor be distrained so long as the\\nprincipal debtor is able to satisfy the debt; and if the principal\\ndebtor shall fail to pay the debt, having nothing wherewith to pay it,\\nthen the sureties shall answer for the debt; and let them have the\\nlands and rents of the debtor, if they desire them, until they are\\nindemnified for the debt which they have paid for him, unless the\\nprincipal debtor can show proof that he is discharged thereof as\\nagainst the said sureties.\\n\\n10. If one who has borrowed from the Jews any sum, great or small, die\\nbefore that loan can be repaid, the debt shall not bear interest while\\nthe heir is under age, of whomsoever he may hold; and if the debt fall\\ninto our hands, we will not take anything except the principal sum\\ncontained in the bond.\\n\\n11. And if any one die indebted to the Jews, his wife shall have her\\ndower and pay nothing of that debt; and if any children of the deceased\\nare left underage, necessaries shall be provided for them in keeping\\nwith the holding of the deceased; and out of the residue the debt shall\\nbe paid, reserving, however, service due to feudal lords; in like\\nmanner let it be done touching debts due to others than Jews.\\n\\n12. No scutage nor aid shall be imposed on our kingdom, unless by\\ncommon counsel of our kingdom, except for ransoming our person, for\\nmaking our eldest son a knight, and for once marrying our eldest\\ndaughter; and for these there shall not be levied more than a\\nreasonable aid. In like manner it shall be done concerning aids from\\nthe city of London.\\n\\n13. And the city of London shall have all its ancient liberties and\\nfree customs, as well by land as by water; furthermore, we decree and\\ngrant that all other cities, boroughs, towns, and ports shall have all\\ntheir liberties and free customs.\\n\\n14. And for obtaining the common counsel of the kingdom anent the\\nassessing of an aid (except in the three cases aforesaid) or of a\\nscutage, we will cause to be summoned the archbishops, bishops, abbots,\\nearls, and greater barons, severally by our letters; and we will\\nmoreover cause to be summoned generally, through our sheriffs and\\nbailiffs, all others who hold of us in chief, for a fixed date, namely,\\nafter the expiry of at least forty days, and at a fixed place; and in\\nall letters of such summons we will specify the reason of the summons.\\nAnd when the summons has thus been made, the business shall proceed on\\nthe day appointed, according to the counsel of such as are present,\\nalthough not all who were summoned have come.\\n\\n15. We will not for the future grant to any one license to take an aid\\nfrom his own free tenants, except to ransom his body, to make his\\neldest son a knight, and once to marry his eldest daughter; and on\\neach of these occasions there shall be levied only a reasonable aid.\\n\\n16. No one shall be distrained for performance of greater service for\\na knight\\'s fee, or for any other free tenement, than is due therefrom.\\n\\n17. Common pleas shall not follow our court, but shall be held in some\\nfixed place.\\n\\n18. Inquests of novel disseisin, of mort d\\'ancester, and of darrein\\npresentment, shall not be held elsewhere than in their own county\\ncourts and that in manner following,--We, or, if we should be out of\\nthe realm, our chief justiciar, will send two justiciars through\\nevery county four times a year, who shall, along with four knights of\\nthe county chosen by the county, hold the said assize in the county\\ncourt, on the day and in the place of meeting of that court.\\n\\n19. And if any of the said assizes cannot be taken on the day of the\\ncounty court, let there remain of the knights and freeholders, who were\\npresent at the county court on that day, as many as may be required for\\nthe efficient making of judgments, according as the business be more or\\nless.\\n\\n20. A freeman shall not be amerced for a slight offense, except in\\naccordance with the degree of the offense; and for a grave offense he\\nshall be amerced in accordance with the gravity of the offense, yet\\nsaving always his \"contentment;\" and a merchant in the same way, saving\\nhis \"merchandise;\" and a villein shall be amerced in the same way,\\nsaving his \"wainage\"--if they have fallen into our mercy: and none of\\nthe aforesaid amercements shall be impsed except by the oath of honest\\nmen of the neighborhood.\\n\\n21. Earls and barons shall not be amerced except through their peers,\\nand only in accordance with the degree of the offense.\\n\\n22. A clerk shall not be amerced in respect of his lay holding except\\nafter the manner of the others aforesaid; further, he shall not be\\namerced in accordance with the extent of his ecclesiastical benefice.\\n\\n23. No village or individual shall be compelled to make bridges at\\nriver-banks, except those who from of old were legally bound to do so.\\n\\n24. No sheriff, constable, coroners, or others of our bailiffs, shall\\nhold pleas of our Crown.\\n\\n25. All counties, hundreds, wapentakes, and trithings (except our\\ndemesne manors) shall remain at old rents, and without any additional\\npayment.***here may be an error\\n\\n26. If any one holding of us a lay fief shall die, and our sheriff or\\nbailiff shall exhibit our letters patent of summons for a debt which\\nthe deceased owed to us, it shall be lawful for our sheriff or bailiff\\nto attach and catalogue chattels of the deceased, found upon the lay\\nfief, to the value of that debt, at the sight of law-worthy men,\\nprovided always that nothing whatever be then be removed until the debt\\nwhich is evident shall be fully paid to us; and the residue shall be\\nleft to the executors to fulfil the will of the deceased; and if there\\nbe nothing due from him to us, all the chattels shall go to\\nthe deceased, saving to his wife and children their reasonable shares.\\n\\n27. If any freeman shall die intestate, his chattels shall be\\ndistributed by the hands of his nearest kinsfolk and friends, under\\nsupervision of the church, saving to every one the debts which the\\ndeceased owed to him.\\n\\n28. No constable or other bailiff of ours shall take corn or other\\nprovisions from any one without immediately tendering money therefor,\\nunless he can have postponement thereof by permission of the seller.\\n\\n29. No constable shall compel any knight to give money in lieu\\nof castle-guard, when he is willing to perform it in his own person, or\\n(if he cannot do it from any reasonable cause) then by another\\nresponsible man. Further, if we have led or sent him upon military\\nservice, he shall be relieved from guard in proportion to the time\\nduring which he has been on service because of us.\\n\\n30. No sheriff or bailiff of ours, or other person, shall take the\\nhorses or carts of any freeman for transport duty, against the will of\\nthe said freeman.\\n\\n31. Neither we nor our bailiffs shall take, for our castles or for any\\nother work of ours, wood which is not ours, against the will of the\\nowner of that wood.\\n\\n32. We will not retain beyond one year and one day, the lands of those\\nwho have been convicted of felony, and the lands shall thereafter be\\nhanded over to the lords of the fiefs.\\n\\n33. All kiddles for the future shall be removed altogether from Thames\\nand Medway, and throughout all England, except upon the seashore.\\n\\n34. The writ which is called praecipe shall not for the future\\nbe issued to any one, regarding any tenement whereby a freeman may lose\\nhis court.\\n\\n35. Let there be one measure of wine throughout our whole realm; and\\none measure of ale; and one measure of corn, to wit, \"the London\\nquarter;\" and one width of cloth (whether dyed, or russet, or\\n\"halberget\"), to wit, two ells within the selvages; of weights also let\\nit be as of measures.\\n\\n36. Nothing in future shall be given or taken for a writ of inquisition\\nof life or limbs, but freely it shall be granted, and never denied.\\n\\n37. If any one holds of us by fee-farm, by socage, or by burgage,\\nand holds also land of another lord by knight\\'s service, we will\\nnot (by reason of that fee-farm, socage, or burgage) have the wardship\\nof the heir, or of such land of his as is of the fief of that other;\\nnor shall we have wardship of that fee-farm, socage, or burgage,\\nunless such fee-farm owes knight\\'s service. We will not by reason of\\nany small serjeanty which any one may hold of us by the service of\\nrendering to us knives, arrows, or the like, have wardship of his heir\\nof the land which he holds of another lord by knight\\'s service.\\n\\n38. No bailiff for the future shall, upon his own unsupported\\ncomplaint, put any one to his \"law,\" without credible witnesses brought\\nfor this purpose.\\n\\n39. No freeman shall be taken or imprisoned or disseised or exiled or\\nin anyway destroyed, nor will we go upon him nor send upon him, except\\nby the lawful judgment of his peers or by the law of the land.\\n\\n40. To no one will we sell, to no one will we refuse or delay, right\\nor justice.\\n\\n41. All merchants shall have safe and secure exit from England, and\\nentry to England, with the right to tarry there and to move about as\\nwell by land as by water, for buying and selling by the ancient and\\nright customs, quit from all evil tolls, except (in time of war) such\\nmerchants as are of the land at war with us. And if such are found in\\nour land at the beginning of the war, they shall be detained, without\\ninjury to their bodies or goods, until information be received by us,\\nor by our chief justiciar, how the merchants of our land found in the\\nland at war with us are treated; and if our men are safe there, the\\nothers shall be safe in our land.\\n\\n42. It shall be lawful in future for any one (excepting always\\nthose imprisoned or outlawed in accordance with the law of the kingdom,\\nand natives of any country at war with us, and merchants, who shall be\\ntreated as is above provided) to leave our kingdom and to return, safe\\nand secure by land and water, except for a short period in time of war,\\non grounds of public policy--reserving always the allegiance due to us.\\n\\n43. If any one holding of some escheat (such as the honor of\\nWallingford, Nottingham, Boulogne, Lancaster, or of other escheats\\nwhich are in our hands and are baronies) shall die, his heir shall give\\nno other relief, and perform no other service to us than he would have\\ndone to the baron, if that barony had been in the baron\\'s hand; and we\\nshall hold it in the same manner in which the baron held it.\\n\\n44. Men who dwell without the forest need not henceforth come before\\nour justiciars of the forest upon a general summons, except those who\\nare impleaded, or who have become sureties for any person or persons\\nattached for forest offenses.\\n\\n45. We will appoint as justices, constables, sheriffs, or bailiffs\\nonly such as know the law of the realm and mean to observe it well.\\n\\n46. All barons who have founded abbeys, concerning which they hold\\ncharters from the kings of England, or of which they have\\nlong-continued possession, shall have the wardship of them, when\\nvacant, as they ought to have.\\n\\n47. All forests that have been made such in our time shall forthwith\\nbe disafforested; and a similar course shall be followed with regard\\nto river-banks that have been placed \"in defense\" by us in our time.\\n\\n48. All evil customs connected with forests and warrens, foresters\\nand warreners, sheriffs and their officers, river-banks and their\\nwardens, shall immediately be inquired into in each county by twelve\\nsworn knights of the same county chosen by the honest men of the same\\ncounty, and shall, within forty days of the said inquest, be utterly\\nabolished, so as never to be restored, provided always that we\\npreviously have intimation thereof, or our justiciar, if we should not\\nbe in England.\\n\\n49. We will immediately restore all hostages and charters delivered to\\nus by Englishmen, as sureties of the peace or of faithful service.\\n\\n50. We will entirely remove from their bailiwicks, the relations of\\nGerard Athee (so that in future they shall have no bailiwick in\\nEngland); namely, Engelard of Cigogne, Peter, Guy, and Andrew of\\nChanceaux, Guy of Cigogne, Geofrrey of Martigny with his brothers,\\nPhilip Mark with his brothers and his nephew Geoffrey, and the whole\\nbrood of the same.\\n\\n51. As soon as peace is restored, we will banish from the kingdom\\nall foreign-born knights, cross-bowmen, serjeants, and mercenary\\nsoldiers, who have come with horses and arms to the kingdom\\'s hurt.\\n\\n52. If any one has been dispossessed or removed by us, without the\\nlegal judgment of his peers, from his lands, castles, franchises, or\\nfrom his right, we will immediately restore them to him; and if a\\ndispute arise over this, then let it be decided by the five-and-twenty\\nbarons of whom mention is made below in the clause for securing the\\npeace. Moreover, for all those possessions, from which any one has,\\nwithout the lawful judgment of his peers, be endisseised or removed, by\\nour father, King Henry, or by our brother, King Richard, and which we\\nretain in our hand (or which are possessed by others, to whom we are\\nbound to warrant them) we shall have respite until the usual term of\\ncrusaders; excepting those things about which a plea has been raised,\\nor an inquest made by our order, before our taking of the cross; but as\\nsoon as were turn from our expedition (or if perchance we desist from\\nthe expedition) we will immediately grant full justice therein.\\n\\n53. We shall have, moreover, the same respite and in the same manner\\nin rendering justice concerning the disafforestation or retention of\\nthose forests which Henry our father and Richard our brother\\nafforested, and concerning wardship of lands which are of the fief of\\nanother (namely, such wardships as we have hitherto had by reason of a\\nfief which any one held of us by knight\\'s service), and concerning\\nabbeys founded on other fiefs than our own, in which the lord of the\\nfief claims to have right; and when we have returned, or if we desist\\nfrom our expedition, we will immediately grant full justice to all\\nwho complain of such things.\\n\\n54. No one shall be arrested or imprisoned upon the appeal of a woman,\\nfor the death of any other than her husband.\\n\\n55. All fines made with us unjustly and against the law of the land,\\nand all amercements imposed unjustly and against the law of the land,\\nshall be entirely remitted, or else it shall be done concerning them\\naccording to the decision of the five-and-twenty barons of whom mention\\nis made below in the clause for securing the peace, or according to the\\njudgment of the majority of the same, along with the aforesaid Stephen,\\narchbishop of Canterbury, if he can be present, and such others as he\\nmay wish to bring with him for this purpose, and if he cannot be\\npresent the business shall nevertheless proceed without him, provided\\nalways that if any one or more of the aforesaid five-and-twenty\\nbarons are in a similar suit, they shall be removed as far as concerns\\nthis particular judgment, others being substituted in their places\\nafter having been selected by the rest of the same five-and-twenty for\\nthis purpose only, and after having been sworn.\\n\\n56. If we have disseised or removed Welshmen from lands or liberties,\\nor other things, without the legal judgment of their peers in England\\nor in Wales, they shall be immediately restored to them; and if a\\ndispute arise over this, then let it be decided in the marches by the\\njudgment of their peers; for tenements in England according to the law\\nof England, for tenements in Wales according to the law of Wales, and\\nfor tenements in the marches according to the law of the marches.\\nWelshmen shall do the same to us and ours.\\n\\n57. Further, for all those possessions from which any Welshman has,\\nwithout the lawful judgment of his peers, been disseised or removed by\\nKing Henry our father or King Richard our brother, and which we retain\\nin our hand (or which are possessed by others, to whom we are bound to\\nwarrant them) we shall have respite until the usual term of crusaders;\\nexcepting those things about which a plea has been raised or an inquest\\nmade by our order before we took the cross; but as soon as we return\\n(or if perchance we desist from our expedition), we will immediately\\ngrant full justice in accordance with the laws of the Welsh and in\\nrelation to the foresaid regions.\\n\\n58. We will immediately give up the son of Llywelyn and all the\\nhostages of Wales, and the charters delivered to us as security for the\\npeace.\\n\\n59. We will do toward Alexander, King of Scots, concerning the return\\nof his sisters and his hostages, and concerning his franchises, and his\\nright, in the same manner as we shall do toward our other barons of\\nEngland, unless it ought to be otherwise according to the charters\\nwhich we hold from William his father, formerly King of Scots; and this\\nshall be according to the judgment of his peers in our court.\\n\\n60. Moreover, all these aforesaid customs and liberties, the\\nobservance of which we have granted in our kingdom as far as pertains\\nto us toward our men, shall be observed by all of our kingdom, as well\\nclergy as laymen, as far as pertains to them toward their men.\\n\\n61. Since, moreover, for God and the amendment of our kingdom and for\\nthe better allaying of the quarrel that has arisen between us and our\\nbarons, we have granted all these concessions, desirous that they\\nshould enjoy them in complete and firm endurance for ever, we give and\\ngrant to them the underwritten security, namely, that the barons choose\\nfive-and-twenty barons of the kingdom, whomsoever they will, who shall\\nbe bound with all their might, to observe and hold, and cause to be\\nobserved, the peace and liberties we have granted and confirmed to them\\nby this our present Charter, so that if we, or our justiciar, or our\\nbailiffs or any one of our officers, shall in anything be at fault\\ntoward any one, or shall have broken any one of the articles of\\nthe peace or of this security, and the offense be notified to four\\nbarons of the foresaid five-and-twenty, the said four barons shall\\nrepair to us (or our justiciar, if we are out of the realm) and, laying\\nthe transgression before us, petition to have that transgression\\nredressed without delay. And if we shall not have corrected the\\ntransgression (or, in the event of our being out of the realm, if our\\njusticiar shall not have corrected it) within forty days, reckoning\\nfrom the time it has been intimated to us (or to our justiciar, if\\nwe should be out of the realm), the four barons aforesaid shall refer\\nthat matter to the rest of the five-and-twenty barons, and those\\nfive-and-twenty barons shall, together with the community of the whole\\nland, distrain and distress us in all possible ways, namely, by seizing\\nour castles, lands, possessions, and in any other way they can, until\\nredress has been obtained as they deem fit, saving harmless our own\\nperson, and the persons of our queen and children; and when redress has\\nbeen obtained, they shall resume their old relations toward us. And let\\nwhoever in the country desires it, swear to obey the orders of the said\\nfive-and-twenty barons for the execution of all the aforesaid matters,\\nand along with them, to molest us to the utmost of his power; and we\\npublicly and freely grant leave to every one who wishes to swear, and\\nwe shall never forbid any one to swear. All those, moreover, in the\\nland who of themselves and of their own accord are unwilling to swear\\nto the twenty-five to help them in constraining and molesting us, we\\nshall by our command compel the same to swear to the effect aforesaid.\\nAnd if any one of the five-and-twenty barons shall have died or\\ndeparted from the land, or be incapacitated in any other manner which\\nwould prevent the foresaid provisions being carried out, those of\\nthe said twenty-five barons who are left shall choose another in his\\nplace according to their own judgment, and he shall be sworn in the\\nsame way as the others. Further, in all matters, the execution of which\\nis intrusted to these twenty-five barons, if perchance these\\ntwenty-five are present, that which the majority of those present\\nordain or command shall be held as fixed and established, exactly as if\\nthe whole twenty-five had concurred in this; and the said twenty-five\\nshall swear that they will faithfully observe all that is aforesaid,\\nand cause it to be observed with all their might. And we shall procure\\nnothing from any one, directly or indirectly, whereby any part of\\nthese concessions and liberties might be revoked or diminished; and if\\nany such thing has been procured, let it be void and null, and we shall\\nnever use it personally or by another.\\n\\n62. And all the ill-will, hatreds, and bitterness that have arisen\\nbetween us and our men, clergy and lay, from the date of the quarrel,\\nwe have completely remitted and pardoned every one. Moreover, all\\ntrespasses occasioned by the said quarrel, from Easter in the sixteenth\\nyear of our reign till the restoration of peace, we have fully remitted\\nto all, both clergy and laymen, and completely forgiven, as far as\\npertains to us. And, on this head, we have caused to be made for them\\nletters testimonial patent of the lord Stephen, archbishop of\\nCanterbury, of the lord Henry, archbishop of Dublin, of the bishops\\naforesaid, and of Master Pandulf as touching this security and\\nthe concessions aforesaid.\\n\\n63. Wherefore it is our will, and we firmly enjoin, that the English\\nChurch be free, and that the men in our kingdom have and hold all the\\naforesaid liberties, rights, and concessions, well and peaceably,\\nfreely and quietly, fully and wholly, for themselves and their heirs,\\nof us and our heirs, in all respects and in all places for ever, as is\\naforesaid. An oath, moreover, has been taken, as well on our part as on\\nthe part of the barons, that all these conditions aforesaid shall be\\nkept in good faith and without evil intent. Given under our hand--the\\nabove-named and many others being witnesses--in the meadow which is\\ncalled Runnymede, between Windsor and Staines, on the fifteenth day of\\nJune, in the seventeenth year of our reign.\\n\\n\\n\\n***\\n\\n\\nThe text of THE MAGNA CARTA\\n\\n\\nThe Magna Carta (The Great Charter):\\n\\nPreamble:\\n\\n\\nJohn, by the grace of God, king of England, lord of Ireland, duke of\\nNormandy and Aquitaine, and count of Anjou, to the archbishop,\\nbishops, abbots, earls, barons, justiciaries, foresters, sheriffs,\\nstewards, servants, and to all his bailiffs and liege subjects,\\ngreetings.  Know that, having regard to God and for the salvation of\\nour soul, and those of all our ancestors and heirs, and unto the honor\\nof God and the advancement of his holy Church and for the rectifying\\nof our realm, we have granted as underwritten by advice of our\\nvenerable fathers, Stephen, archbishop of Canterbury, primate of all\\nEngland and cardinal of the holy Roman Church, Henry, archbishop of\\nDublin, William of London, Peter of Winchester, Jocelyn of Bath and\\nGlastonbury, Hugh of Lincoln, Walter of Worcester, William of\\nCoventry, Benedict of Rochester, bishops; of Master Pandulf, subdeacon\\nand member of the household of our lord the Pope, of brother Aymeric\\n(master of the Knights of the Temple in England), and of the\\nillustrious men William Marshal, earl of Pembroke, William, earl of\\nSalisbury, William, earl of Warenne, William, earl of Arundel, Alan of\\nGalloway (constable of Scotland), Waren Fitz Gerold, Peter Fitz\\nHerbert, Hubert De Burgh (seneschal of Poitou), Hugh de Neville,\\nMatthew Fitz Herbert, Thomas Basset, Alan Basset, Philip d\\'Aubigny,\\nRobert of Roppesley, John Marshal, John Fitz Hugh, and others, our\\nliegemen.\\n\\n\\n1. In the first place we have granted to God, and by this our present\\ncharter confirmed for us and our heirs forever that the English Church\\nshall be free, and shall have her rights entire, and her liberties\\ninviolate; and we will that it be thus observed; which is apparent\\nfrom this that the freedom of elections, which is reckoned most\\nimportant and very essential to the English Church, we, of our pure\\nand unconstrained will, did grant, and did by our charter confirm and\\ndid obtain the ratification of the same from our lord, Pope Innocent\\nIII, before the quarrel arose between us and our barons: and this we\\nwill observe, and our will is that it be observed in good faith by our\\nheirs forever.  We have also granted to all freemen of our kingdom,\\nfor us and our heirs forever, all the underwritten liberties, to be\\nhad and held by them and their heirs, of us and our heirs forever.\\n\\n2. If any of our earls or barons, or others holding of us in chief by\\nmilitary service shall have died, and at the time of his death his\\nheir shall be full of age and owe \"relief\", he shall have his\\ninheritance by the old relief, to wit, the heir or heirs of an earl,\\nfor the whole baroncy of an earl by L100; the heir or heirs of a\\nbaron, L100 for a whole barony; the heir or heirs of a knight, 100s,\\nat most, and whoever owes less let him give less, according to the\\nancient custom of fees.\\n\\n\\n3. If, however, the heir of any one of the aforesaid has been under\\nage and in wardship, let him have his inheritance without relief and\\nwithout fine when he comes of age.\\n\\n4. The guardian of the land of an heir who is thus under age, shall\\ntake from the land of the heir nothing but reasonable produce,\\nreasonable customs, and reasonable services, and that without\\ndestruction or waste of men or goods; and if we have committed the\\nwardship of the lands of any such minor to the sheriff, or to any\\nother who is responsible to us for its issues, and he has made\\ndestruction or waster of what he holds in wardship, we will take of\\nhim amends, and the land shall be committed to two lawful and discreet\\nmen of that fee, who shall be responsible for the issues to us or to\\nhim to whom we shall assign them; and if we have given or sold the\\nwardship of any such land to anyone and he has therein made\\ndestruction or waste, he shall lose that wardship, and it shall be\\ntransferred to two lawful and discreet men of that fief, who shall be\\nresponsible to us in like manner as aforesaid.\\n\\n\\n5. The guardian, moreover, so long as he has the wardship of the land,\\nshall keep up the houses, parks, fishponds, stanks, mills, and other\\nthings pertaining to the land, out of the issues of the same land; and\\nhe shall restore to the heir, when he has come to full age, all his\\nland, stocked with ploughs and wainage, according as the season of\\nhusbandry shall require, and the issues of the land can reasonable\\nbear.\\n\\n6. Heirs shall be married without disparagement, yet so that before\\nthe marriage takes place the nearest in blood to that heir shall have\\nnotice.\\n\\n7. A widow, after the death of her husband, shall forthwith and\\nwithout difficulty have her marriage portion and inheritance; nor\\nshall she give anything for her dower, or for her marriage portion, or\\nfor the inheritance which her husband and she held on the day of the\\ndeath of that husband; and she may remain in the house of her husband\\nfor forty days after his death, within which time her dower shall be\\nassigned to her.\\n\\n8. No widow shall be compelled to marry, so long as she prefers to\\nlive without a husband; provided always that she gives security not to\\nmarry without our consent, if she holds of us, or without the consent\\nof the lord of whom she holds, if she holds of another.\\n\\n9. Neither we nor our bailiffs will seize any land or rent for any\\ndebt, as long as the chattels of the debtor are sufficient to repay\\nthe debt; nor shall the sureties of the debtor be distrained so long\\nas the principal debtor is able to satisfy the debt; and if the\\nprincipal debtor shall fail to pay the debt, having nothing wherewith\\nto pay it, then the sureties shall answer for the debt; and let them\\nhave the lands and rents of the debtor, if they desire them, until\\nthey are indemnified for the debt which they have paid for him, unless\\nthe principal debtor can show proof that he is discharged thereof as\\nagainst the said sureties.\\n\\n10. If one who has borrowed from the Jews any sum, great or small, die\\nbefore that loan be repaid, the debt shall not bear interest while the\\nheir is under age, of whomsoever he may hold; and if the debt fall\\ninto our hands, we will not take anything except the principal sum\\ncontained in the bond.\\n\\n11. And if anyone die indebted to the Jews, his wife shall have her\\ndower and pay nothing of that debt; and if any children of the\\ndeceased are left under age, necessaries shall be provided for them in\\nkeeping with the holding of the deceased; and out of the residue the\\ndebt shall be paid, reserving, however, service due to feudal lords;\\nin like manner let it be done touching debts due to others than Jews.\\n\\n12. No scutage not aid shall be imposed on our kingdom, unless by\\ncommon counsel of our kingdom, except for ransoming our person, for\\nmaking our eldest son a knight, and for once marrying our eldest\\ndaughter; and for these there shall not be levied more than a\\nreasonable aid.  In like manner it shall be done concerning aids from\\nthe city of London.\\n\\n13. And the city of London shall have all it ancient liberties and\\nfree customs, as well by land as by water; furthermore, we decree\\nand grant that all other cities, boroughs, towns, and ports shall\\nhave all their liberties and free customs.\\n\\n14. And for obtaining the common counsel of the kingdom anent the\\nassessing of an aid (except in the three cases aforesaid) or of a\\nscutage, we will cause to be summoned the archbishops, bishops,\\nabbots, earls, and greater barons, severally by our letters; and we\\nwill moveover cause to be summoned generally, through our sheriffs and\\nbailiffs, and others who hold of us in chief, for a fixed date,\\nnamely, after the expiry of at least forty days, and at a fixed place;\\nand in all letters of such summons we will specify the reason of the\\nsummons.  And when the summons has thus been made, the business shall\\nproceed on the day appointed, according to the counsel of such as are\\npresent, although not all who were summoned have come.\\n\\n15. We will not for the future grant to anyone license to take an aid\\nfrom his own free tenants, except to ransom his person, to make his\\neldest son a knight, and once to marry his eldest daughter; and on\\neach of these occasions there shall be levied only a reasonable aid.\\n\\n16. No one shall be distrained for performance of greater service for\\na knight\\'s fee, or for any other free tenement, than is due therefrom.\\n\\n17. Common pleas shall not follow our court, but shall be held in some\\nfixed place.\\n\\n18. Inquests of novel disseisin, of mort d\\'ancestor, and of darrein\\npresentment shall not be held elsewhere than in their own county\\ncourts, and that in manner following; We, or, if we should be out of\\nthe realm, our chief justiciar, will send two justiciaries through\\nevery county four times a year, who shall alone with four knights of\\nthe county chosen by the county, hold the said assizes in the county\\ncourt, on the day and in the place of meeting of that court.\\n\\n19. And if any of the said assizes cannot be taken on the day of the\\ncounty court, let there remain of the knights and freeholders, who\\nwere present at the county court on that day, as many as may be\\nrequired for the efficient making of judgments, according as the\\nbusiness be more or less.\\n\\n20. A freeman shall not be amerced for a slight offense, except in\\naccordance with the degree of the offense; and for a grave offense he\\nshall be amerced in accordance with the gravity of the offense, yet\\nsaving always his \"contentment\"; and a merchant in the same way,\\nsaving his \"merchandise\"; and a villein shall be amerced in the same\\nway, saving his \"wainage\" if they have fallen into our mercy: and none\\nof the aforesaid amercements shall be imposed except by the oath of\\nhonest men of the neighborhood.\\n\\n21. Earls and barons shall not be amerced except through their peers,\\nand only in accordance with the degree of the offense.\\n\\n22. A clerk shall not be amerced in respect of his lay holding except\\nafter the manner of the others aforesaid; further, he shall not be\\namerced in accordance with the extent of his ecclesiastical benefice.\\n\\n23. No village or individual shall be compelled to make bridges at\\nriver banks, except those who from of old were legally bound to do so.\\n\\n24. No sheriff, constable, coroners, or others of our bailiffs, shall\\nhold pleas of our Crown.\\n\\n25. All counties, hundred, wapentakes, and trithings (except our\\ndemesne manors) shall remain at the old rents, and without any\\nadditional payment.\\n\\n26. If anyone holding of us a lay fief shall die, and our sheriff or\\nbailiff shall exhibit our letters patent of summons for a debt which\\nthe deceased owed us, it shall be lawful for our sheriff or bailiff to\\nattach and enroll the chattels of the deceased, found upon the lay\\nfief, to the value of that debt, at the sight of law worthy men,\\nprovided always that nothing whatever be thence removed until the debt\\nwhich is evident shall be fully paid to us; and the residue shall be\\nleft to the executors to fulfill the will of the deceased; and if\\nthere be nothing due from him to us, all the chattels shall go to the\\ndeceased, saving to his wife and children their reasonable shares.\\n\\n27. If any freeman shall die intestate, his chattels shall be\\ndistributed by the hands of his nearest kinsfolk and friends, under\\nsupervision of the Church, saving to every one the debts which the\\ndeceased owed to him.\\n\\n28. No constable or other bailiff of ours shall take corn or other\\nprovisions from anyone without immediately tendering money therefor,\\nunless he can have postponement thereof by permission of the seller.\\n\\n29. No constable shall compel any knight to give money in lieu of\\ncastle-guard, when he is willing to perform it in his own person, or\\n(if he himself cannot do it from any reasonable cause) then by another\\nresponsible man.  Further, if we have led or sent him upon military\\nservice, he shall be relieved from guard in proportion to the time\\nduring which he has been on service because of us.\\n\\n30. No sheriff or bailiff of ours, or other person, shall take the\\nhorses or carts of any freeman for transport duty, against the will of\\nthe said freeman.\\n\\n31. Neither we nor our bailiffs shall take, for our castles or for any\\nother work of ours, wood which is not ours, against the will of the\\nowner of that wood.\\n\\n32. We will not retain beyond one year and one day, the lands those\\nwho have been convicted of felony, and the lands shall thereafter be\\nhanded over to the lords of the fiefs.\\n\\n33. All kydells for the future shall be removed altogether from Thames\\nand Medway, and throughout all England, except upon the seashore.\\n\\n34. The writ which is called praecipe shall not for the future be\\nissued to anyone, regarding any tenement whereby a freeman may lose\\nhis court.\\n\\n35. Let there be one measure of wine throughout our whole realm; and\\none measure of ale; and one measure of corn, to wit, \"the London\\nquarter\"; and one width of cloth (whether dyed, or russet, or\\n\"halberget\"), to wit, two ells within the selvedges; of weights also\\nlet it be as of measures.\\n\\n36. Nothing in future shall be given or taken for a writ of\\ninquisition of life or limbs, but freely it shall be granted,\\nand never denied.\\n\\n37. If anyone holds of us by fee-farm, either by socage or by burage,\\nor of any other land by knight\\'s service, we will not (by reason of\\nthat fee-farm, socage, or burgage), have the wardship of the heir, or\\nof such land of his as if of the fief of that other; nor shall we have\\nwardship of that fee-farm, socage, or burgage, unless such fee-farm\\nowes knight\\'s service.  We will not by reason of any small serjeancy\\nwhich anyone may hold of us by the service of rendering to us knives,\\narrows, or the like, have wardship of his heir or of the land which he\\nholds of another lord by knight\\'s service.\\n\\n38. No bailiff for the future shall, upon his own unsupported\\ncomplaint, put anyone to his \"law\", without credible witnesses brought\\nfor this purposes.\\n\\n39. No freemen shall be taken or imprisoned or disseised or exiled or\\nin any way destroyed, nor will we go upon him nor send upon him,\\nexcept by the lawful judgment of his peers or by the law of the land.\\n\\n40. To no one will we sell, to no one will we refuse or delay, right\\nor justice.\\n\\n41. All merchants shall have safe and secure exit from England, and\\nentry to England, with the right to tarry there and to move about as\\nwell by land as by water, for buying and selling by the ancient and\\nright customs, quit from all evil tolls, except (in time of war) such\\nmerchants as are of the land at war with us. And if such are found in\\nour land at the beginning of the war, they shall be detained, without\\ninjury to their bodies or goods, until information be received by us,\\nor by our chief justiciar, how the merchants of our land found in the\\nland at war with us are treated; and if our men are safe there, the\\nothers shall be safe in our land.\\n\\n42. It shall be lawful in future for anyone (excepting always those\\nimprisoned or outlawed in accordance with the law of the kingdom, and\\nnatives of any country at war with us, and merchants, who shall be\\ntreated as if above provided) to leave our kingdom and to return, safe\\nand secure by land and water, except for a short period in time of\\nwar, on grounds of public policy- reserving always the allegiance due\\nto us.\\n\\n43. If anyone holding of some escheat (such as the honor of\\nWallingford, Nottingham, Boulogne, Lancaster, or of other escheats\\nwhich are in our hands and are baronies) shall die, his heir shall\\ngive no other relief, and perform no other service to us than he would\\nhave done to the baron if that barony had been in the baron\\'s hand;\\nand we shall hold it in the same manner in which the baron held it.\\n\\n44. Men who dwell without the forest need not henceforth come before\\nour justiciaries of the forest upon a general summons, unless they are\\nin plea, or sureties of one or more, who are attached for the forest.\\n\\n45. We will appoint as justices, constables, sheriffs, or bailiffs\\nonly such as know the law of the realm and mean to observe it well.\\n\\n46. All barons who have founded abbeys, concerning which they hold\\ncharters from the kings of England, or of which they have long\\ncontinued possession, shall have the wardship of them, when vacant, as\\nthey ought to have.\\n\\n47. All forests that have been made such in our time shall forthwith\\nbe disafforsted; and a similar course shall be followed with regard\\nto river banks that have been placed \"in defense\" by us in our time.\\n\\n48.  All evil customs connected with forests and warrens, foresters\\nand warreners, sheriffs and their officers, river banks and their\\nwardens, shall immediately by inquired into in each county by twelve\\nsworn knights of the same county chosen by the honest men of the same\\ncounty, and shall, within forty days of the said inquest, be utterly\\nabolished, so as never to be restored, provided always that we\\npreviously have intimation thereof, or our justiciar, if we should not\\nbe in England.\\n\\n49. We will immediately restore all hostages and charters delivered to\\nus by Englishmen, as sureties of the peace of faithful service.\\n\\n50. We will entirely remove from their bailiwicks, the relations of\\nGerard of Athee (so that in future they shall have no bailiwick in\\nEngland); namely, Engelard of Cigogne, Peter, Guy, and Andrew of\\nChanceaux, Guy of Cigogne, Geoffrey of Martigny with his brothers,\\nPhilip Mark with his brothers and his nephew Geoffrey, and the whole\\nbrood of the same.\\n\\n51. As soon as peace is restored, we will banish from the kingdom all\\nforeign born knights, crossbowmen, serjeants, and mercenary soldiers\\nwho have come with horses and arms to the kingdom\\'s hurt.\\n\\n52. If anyone has been dispossessed or removed by us, without the\\nlegal judgment of his peers, from his lands, castles, franchises, or\\nfrom his right, we will immediately restore them to him; and if a\\ndispute arise over this, then let it be decided by the five and twenty\\nbarons of whom mention is made below in the clause for securing the\\npeace.  Moreover, for all those possessions, from which anyone has,\\nwithout the lawful judgment of his peers, been disseised or removed,\\nby our father, King Henry, or by our brother, King Richard, and which\\nwe retain in our hand (or which as possessed by others, to whom we are\\nbound to warrant them) we shall have respite until the usual term of\\ncrusaders; excepting those things about which a plea has been raised,\\nor an inquest made by our order, before our taking of the cross; but\\nas soon as we return from the expedition, we will immediately grant\\nfull justice therein.\\n\\n53. We shall have, moreover, the same respite and in the same manner\\nin rendering justice concerning the disafforestation or retention of\\nthose forests which Henry our father and Richard our brother\\nafforested, and concerning the wardship of lands which are of the fief\\nof another (namely, such wardships as we have hitherto had by reason\\nof a fief which anyone held of us by knight\\'s service), and concerning\\nabbeys founded on other fiefs than our own, in which the lord of the\\nfee claims to have right; and when we have returned, or if we desist\\nfrom our expedition, we will immediately grant full justice to all who\\ncomplain of such things.\\n\\n54. No one shall be arrested or imprisoned upon the appeal of a woman,\\nfor the death of any other than her husband.\\n\\n55. All fines made with us unjustly and against the law of the land,\\nand all amercements, imposed unjustly and against the law of the land,\\nshall be entirely remitted, or else it shall be done concerning them\\naccording to the decision of the five and twenty barons whom mention\\nis made below in the clause for securing the pease, or according to\\nthe judgment of the majority of the same, along with the aforesaid\\nStephen, archbishop of Canterbury, if he can be present, and such\\nothers as he may wish to bring with him for this purpose, and if he\\ncannot be present the business shall nevertheless proceed without him,\\nprovided always that if any one or more of the aforesaid five and\\ntwenty barons are in a similar suit, they shall be removed as far as\\nconcerns this particular judgment, others being substituted in their\\nplaces after having been selected by the rest of the same five and\\ntwenty for this purpose only, and after having been sworn.\\n\\n56. If we have disseised or removed Welshmen from lands or liberties,\\nor other things, without the legal judgment of their peers in England\\nor in Wales, they shall be immediately restored to them; and if a\\ndispute arise over this, then let it be decided in the marches by the\\njudgment of their peers; for the tenements in England according to the\\nlaw of England, for tenements in Wales according to the law of Wales,\\nand for tenements in the marches according to the law of the marches.\\nWelshmen shall do the same to us and ours.\\n\\n57. Further, for all those possessions from which any Welshman has,\\nwithout the lawful judgment of his peers, been disseised or removed by\\nKing Henry our father, or King Richard our brother, and which we\\nretain in our hand (or which are possessed by others, and which we\\nought to warrant), we will have respite until the usual term of\\ncrusaders; excepting those things about which a plea has been raised\\nor an inquest made by our order before we took the cross; but as soon\\nas we return (or if perchance we desist from our expedition), we will\\nimmediately grant full justice in accordance with the laws of the\\nWelsh and in relation to the foresaid regions.\\n\\n58. We will immediately give up the son of Llywelyn and all the\\nhostages of Wales, and the charters delivered to us as security for\\nthe peace.\\n\\n59. We will do towards Alexander, king of Scots, concerning the return\\nof his sisters and his hostages, and concerning his franchises, and\\nhis right, in the same manner as we shall do towards our other barons\\nof England, unless it ought to be otherwise according to the charters\\nwhich we hold from William his father, formerly king of Scots; and\\nthis shall be according to the judgment of his peers in our court.\\n\\n60. Moreover, all these aforesaid customs and liberties, the\\nobservances of which we have granted in our kingdom as far as pertains\\nto us towards our men, shall be observed b all of our kingdom, as well\\nclergy as laymen, as far as pertains to them towards their men.\\n\\n61. Since, moveover, for God and the amendment of our kingdom and for\\nthe better allaying of the quarrel that has arisen between us and our\\nbarons, we have granted all these concessions, desirous that they\\nshould enjoy them in complete and firm endurance forever, we give and\\ngrant to them the underwritten security, namely, that the barons\\nchoose five and twenty barons of the kingdom, whomsoever they will,\\nwho shall be bound with all their might, to observe and hold, and\\ncause to be observed, the peace and liberties we have granted and\\nconfirmed to them by this our present Charter, so that if we, or our\\njusticiar, or our bailiffs or any one of our officers, shall in\\nanything be at fault towards anyone, or shall have broken any one of\\nthe articles of this peace or of this security, and the offense be\\nnotified to four barons of the foresaid five and twenty, the said four\\nbarons shall repair to us (or our justiciar, if we are out of the\\nrealm) and, laying the transgression before us, petition to have that\\ntransgression redressed without delay.  And if we shall not have\\ncorrected the transgression (or, in the event of our being out of the\\nrealm, if our justiciar shall not have corrected it) within forty\\ndays, reckoning from the time it has been intimated to us (or to our\\njusticiar, if we should be out of the realm), the four barons\\naforesaid shall refer that matter to the rest of the five and twenty\\nbarons, and those five and twenty barons shall, together with the\\ncommunity of the whole realm, distrain and distress us in all possible\\nways, namely, by seizing our castles, lands, possessions, and in any\\nother way they can, until redress has been obtained as they deem fit,\\nsaving harmless our own person, and the persons of our queen and\\nchildren; and when redress has been obtained, they shall resume their\\nold relations towards us.  And let whoever in the country desires it,\\nswear to obey the orders of the said five and twenty barons for the\\nexecution of all the aforesaid matters, and along with them, to molest\\nus to the utmost of his power; and we publicly and freely grant leave\\nto everyone who wishes to swear, and we shall never forbid anyone to\\nswear.\\n\\nAll those, moveover, in the land who of themselves and of their own\\naccord are unwilling to swear to the twenty five to help them in\\nconstraining and molesting us, we shall by our command compel the same\\nto swear to the effect foresaid.  And if any one of the five and\\ntwenty barons shall have died or departed from the land, or be\\nincapacitated in any other manner which would prevent the foresaid\\nprovisions being carried out, those of the said twenty five barons who\\nare left shall choose another in his place according to their own\\njudgment, and he shall be sworn in the same way as the others.\\nFurther, in all matters, the execution of which is entrusted to these\\ntwenty five barons, if perchance these twenty five are present and\\ndisagree about anything, or if some of them, after being summoned, are\\nunwilling or unable to be present, that which the majority of those\\npresent ordain or command shall be held as fixed and established,\\nexactly as if the whole twenty five had concurred in this; and the\\nsaid twenty five shall swear that they will faithfully observe all\\nthat is aforesaid, and cause it to be observed with all their might.\\nAnd we shall procure nothing from anyone, directly or indirectly,\\nwhereby any part of these concessions and liberties might be revoked\\nor diminished; and if any such things has been procured, let it be\\nvoid and null, and we shall never use it personally or by another.\\n\\n62. And all the will, hatreds, and bitterness that have arisen between\\nus and our men, clergy and lay, from the date of the quarrel, we have\\ncompletely remitted and pardoned to everyone.  Moreover, all\\ntrespasses occasioned by the said quarrel, from Easter in the\\nsixteenth year of our reign till the restoration of peace, we have\\nfully remitted to all, both clergy and laymen, and completely\\nforgiven, as far as pertains to us.  And on this head, we have caused\\nto be made for them letters testimonial patent of the lord Stephen,\\narchbishop of Canterbury, of the lord Henry, archbishop of Dublin, of\\nthe bishops aforesaid, and of Master Pandulf as touching this security\\nand the concessions aforesaid.\\n\\n63. Wherefore we will and firmly order that the English Church be\\nfree, and that the men in our kingdom have and hold all the aforesaid\\nliberties, rights, and concessions, well and peaceably, freely and\\nquietly, fully and wholly, for themselves and their heirs, of us and\\nour heirs, in all respects and in all places forever, as is\\naforesaid.  An oath, moreover, has been taken, as well on our part as\\non the part of the barons, that all these conditions aforesaid shall be\\nkept in good faith and without evil intent.  Given under our hand -\\nthe above named and many others being witnesses - in the meadow which\\nis called Runnymede, between Windsor and Staines, on the fifteenth day\\nof June, in the seventeenth year of our reign.\\n\\n***'"
      ]
     },
     "execution_count": 9,
     "metadata": {},
     "output_type": "execute_result"
    }
   ],
   "source": [
    "from gutenberg.cleanup import strip_headers\n",
    "strip_headers(text).strip()"
   ]
  },
  {
   "cell_type": "code",
   "execution_count": 59,
   "metadata": {},
   "outputs": [
    {
     "name": "stdout",
     "output_type": "stream",
     "text": [
      "+--------------------+\n",
      "|               texts|\n",
      "+--------------------+\n",
      "|I like playing?an...|\n",
      "|      I like coding.|\n",
      "|Hello world spark...|\n",
      "+--------------------+\n",
      "\n"
     ]
    }
   ],
   "source": [
    "import pandas as pd\n",
    "\n",
    "pdf = pd.DataFrame({\n",
    "        'texts': [\"I like playing?and drinking hello\",\n",
    "                  \"I like coding.\",\n",
    "                  \"Hello world spark python\"]})\n",
    "    \n",
    "df = spark.createDataFrame(pdf)\n",
    "df.show()"
   ]
  },
  {
   "cell_type": "markdown",
   "metadata": {},
   "source": [
    "## Clean text"
   ]
  },
  {
   "cell_type": "code",
   "execution_count": 60,
   "metadata": {},
   "outputs": [
    {
     "name": "stdout",
     "output_type": "stream",
     "text": [
      "+--------------------+--------------------+\n",
      "|               texts|             cleaned|\n",
      "+--------------------+--------------------+\n",
      "|I like playing?an...|i like playing an...|\n",
      "|      I like coding.|      i like coding |\n",
      "|Hello world spark...|hello world spark...|\n",
      "+--------------------+--------------------+\n",
      "\n",
      "CPU times: user 8.64 ms, sys: 533 µs, total: 9.17 ms\n",
      "Wall time: 276 ms\n"
     ]
    }
   ],
   "source": [
    "%%time\n",
    "import re\n",
    "import unidecode\n",
    "from pyspark.sql.functions import udf\n",
    "from pyspark.sql.types import *\n",
    "\n",
    "def clean(text):\n",
    "    text= unidecode.unidecode(text) # remove accents\n",
    "    text = text.lower()\n",
    "    text = text.replace(r'\\n','') # remove newline sign\n",
    "    text = re.sub(r'\\d+', '', text) # remove digits \n",
    "    text = re.sub(r'[.]?-[.]?', '', text) # concatenate divided words\n",
    "    text = re.sub(r'[\\W]+',' ', text) # replace non-alphanum with space  \n",
    "    text = re.sub(' +', ' ', text) # replace multiple spaces with single space \n",
    "    return text\n",
    "\n",
    "user_def_fun = udf(f=clean, returnType=StringType())\n",
    "\n",
    "df = df.withColumn(\"cleaned\", user_def_fun(\"texts\"))\n",
    "df.show()"
   ]
  },
  {
   "cell_type": "markdown",
   "metadata": {},
   "source": [
    "## Tokenization"
   ]
  },
  {
   "cell_type": "code",
   "execution_count": 61,
   "metadata": {},
   "outputs": [
    {
     "name": "stdout",
     "output_type": "stream",
     "text": [
      "+---------------------------------+---------------------------------+----------------------------------------+\n",
      "|texts                            |cleaned                          |tokens                                  |\n",
      "+---------------------------------+---------------------------------+----------------------------------------+\n",
      "|I like playing?and drinking hello|i like playing and drinking hello|[i, like, playing, and, drinking, hello]|\n",
      "|I like coding.                   |i like coding                    |[i, like, coding]                       |\n",
      "+---------------------------------+---------------------------------+----------------------------------------+\n",
      "only showing top 2 rows\n",
      "\n",
      "CPU times: user 4.66 ms, sys: 3.51 ms, total: 8.17 ms\n",
      "Wall time: 296 ms\n"
     ]
    }
   ],
   "source": [
    "%%time\n",
    "from pyspark.ml.feature import Tokenizer\n",
    "\n",
    "tokenizer = Tokenizer(inputCol=\"cleaned\", outputCol=\"tokens\")\n",
    "df = tokenizer.transform(df)\n",
    "df.show(2, False)"
   ]
  },
  {
   "cell_type": "markdown",
   "metadata": {},
   "source": [
    "## Stopwords Removal"
   ]
  },
  {
   "cell_type": "code",
   "execution_count": 62,
   "metadata": {},
   "outputs": [
    {
     "name": "stdout",
     "output_type": "stream",
     "text": [
      "+---------------------------------+---------------------------------+----------------------------------------+--------------------------------+\n",
      "|texts                            |cleaned                          |tokens                                  |refined_tokens                  |\n",
      "+---------------------------------+---------------------------------+----------------------------------------+--------------------------------+\n",
      "|I like playing?and drinking hello|i like playing and drinking hello|[i, like, playing, and, drinking, hello]|[like, playing, drinking, hello]|\n",
      "|I like coding.                   |i like coding                    |[i, like, coding]                       |[like, coding]                  |\n",
      "+---------------------------------+---------------------------------+----------------------------------------+--------------------------------+\n",
      "only showing top 2 rows\n",
      "\n",
      "CPU times: user 58.5 ms, sys: 13.5 ms, total: 72 ms\n",
      "Wall time: 413 ms\n"
     ]
    }
   ],
   "source": [
    "%%time\n",
    "from pyspark.ml.feature import StopWordsRemover\n",
    "\n",
    "stopword_removal = StopWordsRemover(inputCol='tokens', \n",
    "                                    outputCol='refined_tokens')\n",
    "df = stopword_removal.transform(df)\n",
    "\n",
    "df.show(2, False)"
   ]
  },
  {
   "cell_type": "markdown",
   "metadata": {},
   "source": [
    "## Stemming vs lemmatization"
   ]
  },
  {
   "cell_type": "markdown",
   "metadata": {},
   "source": [
    "### SnowballStemmer"
   ]
  },
  {
   "cell_type": "code",
   "execution_count": 63,
   "metadata": {},
   "outputs": [
    {
     "name": "stdout",
     "output_type": "stream",
     "text": [
      "+--------------------------------+--------------------------+\n",
      "|refined_tokens                  |stem                      |\n",
      "+--------------------------------+--------------------------+\n",
      "|[like, playing, drinking, hello]|[like, play, drink, hello]|\n",
      "|[like, coding]                  |[like, code]              |\n",
      "+--------------------------------+--------------------------+\n",
      "only showing top 2 rows\n",
      "\n",
      "CPU times: user 8.36 ms, sys: 4.34 ms, total: 12.7 ms\n",
      "Wall time: 3.06 s\n"
     ]
    }
   ],
   "source": [
    "%%time\n",
    "from nltk.stem.snowball import SnowballStemmer\n",
    "\n",
    "def list_stemmer(words):\n",
    "    stemmer = SnowballStemmer(language='english')\n",
    "    return [stemmer.stem(word) for word in words]\n",
    "\n",
    "stemming = udf(list_stemmer, returnType=ArrayType(StringType()))\n",
    "\n",
    "df = df.withColumn(\"stem\", stemming(\"refined_tokens\"))\n",
    "df.select(['refined_tokens','stem']).show(2, False)"
   ]
  },
  {
   "cell_type": "markdown",
   "metadata": {},
   "source": [
    "### WordNetLemmatizer"
   ]
  },
  {
   "cell_type": "code",
   "execution_count": null,
   "metadata": {},
   "outputs": [],
   "source": [
    "import nltk\n",
    "nltk.download('wordnet')"
   ]
  },
  {
   "cell_type": "code",
   "execution_count": 62,
   "metadata": {},
   "outputs": [
    {
     "name": "stdout",
     "output_type": "stream",
     "text": [
      "+--------------------+--------------------+\n",
      "|      refined_tokens|                 lem|\n",
      "+--------------------+--------------------+\n",
      "|[like, playing, d...|[like, playing, d...|\n",
      "|      [like, coding]|      [like, coding]|\n",
      "+--------------------+--------------------+\n",
      "\n",
      "CPU times: user 14.7 ms, sys: 0 ns, total: 14.7 ms\n",
      "Wall time: 5.2 s\n"
     ]
    }
   ],
   "source": [
    "%%time\n",
    "from nltk.stem import WordNetLemmatizer\n",
    "\n",
    "def list_lemmatizer(words):\n",
    "    lemmatizer = WordNetLemmatizer()\n",
    "    return [lemmatizer.lemmatize(word) for word in words]\n",
    "\n",
    "lemmatization = udf(list_lemmatizer, returnType=ArrayType(StringType()))\n",
    "\n",
    "df = df.withColumn(\"lem\", lemmatization(\"refined_tokens\"))\n",
    "df.select(['refined_tokens','lem']).show(2, False)"
   ]
  },
  {
   "cell_type": "markdown",
   "metadata": {},
   "source": [
    "## TF-IDF"
   ]
  },
  {
   "cell_type": "code",
   "execution_count": 58,
   "metadata": {},
   "outputs": [
    {
     "name": "stdout",
     "output_type": "stream",
     "text": [
      "+--------------------------+-------------------------------------------------------+\n",
      "|stem                      |tf_features                                            |\n",
      "+--------------------------+-------------------------------------------------------+\n",
      "|[like, play, drink, hello]|(262144,[33140,123981,208258,250593],[1.0,1.0,1.0,1.0])|\n",
      "|[like, code]              |(262144,[93284,208258],[1.0,1.0])                      |\n",
      "+--------------------------+-------------------------------------------------------+\n",
      "only showing top 2 rows\n",
      "\n",
      "CPU times: user 19.2 ms, sys: 12.2 ms, total: 31.4 ms\n",
      "Wall time: 2.78 s\n"
     ]
    }
   ],
   "source": [
    "%%time\n",
    "from pyspark.ml.feature import HashingTF, IDF\n",
    "\n",
    "hashing_vec = HashingTF(numFeatures=262144,\n",
    "                        inputCol='stem',\n",
    "                        outputCol='tf_features')\n",
    "\n",
    "hashing_df = hashing_vec.transform(df)\n",
    "hashing_df.select(['stem','tf_features']).show(2, False)"
   ]
  },
  {
   "cell_type": "code",
   "execution_count": 64,
   "metadata": {},
   "outputs": [
    {
     "name": "stdout",
     "output_type": "stream",
     "text": [
      "+--------------------------+---------------------------------------------------------------------------------------------------------------------+\n",
      "|stem                      |tf_idf_features                                                                                                      |\n",
      "+--------------------------+---------------------------------------------------------------------------------------------------------------------+\n",
      "|[like, play, drink, hello]|(262144,[33140,123981,208258,250593],[0.6931471805599453,0.6931471805599453,0.28768207245178085,0.28768207245178085])|\n",
      "|[like, code]              |(262144,[93284,208258],[0.6931471805599453,0.28768207245178085])                                                     |\n",
      "+--------------------------+---------------------------------------------------------------------------------------------------------------------+\n",
      "only showing top 2 rows\n",
      "\n",
      "CPU times: user 13.1 ms, sys: 5.41 ms, total: 18.6 ms\n",
      "Wall time: 5.81 s\n"
     ]
    }
   ],
   "source": [
    "%%time\n",
    "tf_idf_vec = IDF(inputCol='tf_features',\n",
    "               outputCol='tf_idf_features')\n",
    "\n",
    "tf_idf_df = tf_idf_vec.fit(hashing_df).transform(hashing_df)\n",
    "tf_idf_df.select(['stem','tf_idf_features']).show(2,False)"
   ]
  },
  {
   "cell_type": "markdown",
   "metadata": {},
   "source": [
    "## PCA"
   ]
  },
  {
   "cell_type": "code",
   "execution_count": 148,
   "metadata": {},
   "outputs": [
    {
     "name": "stdout",
     "output_type": "stream",
     "text": [
      "+-----------------------------------------+\n",
      "|pca                                      |\n",
      "+-----------------------------------------+\n",
      "|[0.5026488372437357,-0.7356385322948846] |\n",
      "|[0.16366648734159395,0.45146339383428075]|\n",
      "+-----------------------------------------+\n",
      "only showing top 2 rows\n",
      "\n",
      "CPU times: user 17.5 ms, sys: 15.4 ms, total: 32.9 ms\n",
      "Wall time: 24.1 s\n"
     ]
    }
   ],
   "source": [
    "%%time\n",
    "from pyspark.ml.feature import PCA \n",
    "from pyspark.ml.linalg import Vectors\n",
    "\n",
    "pca = PCA(k=2, inputCol='tf_idf_features', outputCol=\"pca\")\n",
    "model = pca.fit(tf_idf_df)\n",
    "transformed = model.transform(tf_idf_df)\n",
    "transformed = transformed.select('pca')\n",
    "transformed.show(2, False) "
   ]
  },
  {
   "cell_type": "markdown",
   "metadata": {},
   "source": [
    "### split vectors in to two columns"
   ]
  },
  {
   "cell_type": "code",
   "execution_count": 150,
   "metadata": {},
   "outputs": [
    {
     "name": "stdout",
     "output_type": "stream",
     "text": [
      "+----------+-----------+\n",
      "|     PCA_1|      PCA_2|\n",
      "+----------+-----------+\n",
      "|0.50264883|-0.73563856|\n",
      "|0.16366649|  0.4514634|\n",
      "+----------+-----------+\n",
      "only showing top 2 rows\n",
      "\n"
     ]
    }
   ],
   "source": [
    "from pyspark.sql import Row\n",
    "from pyspark.sql.types import *\n",
    "\n",
    "two_columns_rdd = transformed.rdd.map(lambda x: Row(PCA_1=float(x[0][0]), \n",
    "                                                    PCA_2=float(x[0][1])))\n",
    "\n",
    "schema = StructType([StructField(\"PCA_1\", FloatType(), True),\n",
    "                     StructField(\"PCA_2\", FloatType(), True)])\n",
    "\n",
    "pca_df = spark.createDataFrame(two_columns_rdd, schema=schema)\n",
    "pca_df.show(2)"
   ]
  },
  {
   "cell_type": "markdown",
   "metadata": {},
   "source": [
    "# Visualization"
   ]
  },
  {
   "cell_type": "code",
   "execution_count": 158,
   "metadata": {},
   "outputs": [],
   "source": [
    "plot_df = pca_df.toPandas()\n",
    "x, y = plot_df['PCA_1'].values, plot_df['PCA_2'].values"
   ]
  },
  {
   "cell_type": "code",
   "execution_count": 175,
   "metadata": {},
   "outputs": [
    {
     "data": {
      "image/png": "[encoded data removed]",
      "text/plain": [
       "<Figure size 576x432 with 1 Axes>"
      ]
     },
     "metadata": {
      "needs_background": "light"
     },
     "output_type": "display_data"
    }
   ],
   "source": [
    "import matplotlib.pyplot as plt\n",
    "\n",
    "titles = ['title_1','title_2','title_3']\n",
    "\n",
    "fig, ax = plt.subplots(figsize=(8,6))\n",
    "\n",
    "ax.set_xmargin(0.2)\n",
    "ax.set_ymargin(0.2)\n",
    "ax.scatter(x,y, zorder=3)\n",
    "\n",
    "# Display titles\n",
    "for i, title in enumerate(titles):\n",
    "    ax.annotate(title, (x[i]+0.03, y[i]))\n",
    "    \n",
    "ax.set(xlabel='PCA 1',\n",
    "       ylabel='PCA 2', \n",
    "       title='PCA')\n",
    "ax.grid()\n",
    "\n",
    "plt.show()"
   ]
  },
  {
   "cell_type": "markdown",
   "metadata": {},
   "source": [
    "# Clusterization"
   ]
  },
  {
   "cell_type": "code",
   "execution_count": 178,
   "metadata": {},
   "outputs": [],
   "source": [
    "from sklearn.cluster import KMeans\n",
    "\n",
    "clustering_model = KMeans(n_clusters=3,\n",
    "                          max_iter=100,\n",
    "                          n_jobs=-1)\n",
    "\n",
    "labels = clustering_model.fit_predict(plot_df)"
   ]
  },
  {
   "cell_type": "code",
   "execution_count": 182,
   "metadata": {},
   "outputs": [
    {
     "data": {
      "image/png": "[encoded data removed]",
      "text/plain": [
       "<Figure size 576x432 with 1 Axes>"
      ]
     },
     "metadata": {
      "needs_background": "light"
     },
     "output_type": "display_data"
    }
   ],
   "source": [
    "color_map = {0: 'red', \n",
    "             1: 'green', \n",
    "             2: 'blue'}\n",
    "    \n",
    "titles = ['title_1','title_2','title_3']\n",
    "\n",
    "fig, ax = plt.subplots(figsize=(8,6))\n",
    "\n",
    "ax.set_xmargin(0.2)\n",
    "ax.set_ymargin(0.2)\n",
    "\n",
    "for i, _ in enumerate(x):\n",
    "    # Add colors\n",
    "    color = color_map[labels[i]]\n",
    "    ax.scatter(x[i], y[i], c=color, zorder=3)\n",
    "    # Display titles\n",
    "    ax.annotate(titles[i], (x[i]+0.03, y[i]))\n",
    "    \n",
    "ax.set(xlabel='PCA 1',\n",
    "       ylabel='PCA 2', \n",
    "       title='PCA')\n",
    "ax.grid()\n",
    "\n",
    "plt.show()"
   ]
  },
  {
   "cell_type": "code",
   "execution_count": null,
   "metadata": {},
   "outputs": [],
   "source": []
  }
 ],
 "metadata": {
  "kernelspec": {
   "display_name": "Python 3.7.4 64-bit ('base': conda)",
   "language": "python",
   "name": "python37464bitbasecondad8740a4f8eca4c079729b3e8f23ddf31"
  },
  "language_info": {
   "codemirror_mode": {
    "name": "ipython",
    "version": 3
   },
   "file_extension": ".py",
   "mimetype": "text/x-python",
   "name": "python",
   "nbconvert_exporter": "python",
   "pygments_lexer": "ipython3",
   "version": "3.7.4"
  },
  "toc-autonumbering": false
 },
 "nbformat": 4,
 "nbformat_minor": 4
}
