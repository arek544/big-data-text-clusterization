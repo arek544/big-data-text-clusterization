{
 "cells": [
  {
   "cell_type": "code",
   "execution_count": 17,
   "metadata": {},
   "outputs": [
    {
     "data": {
      "text/plain": [
       "['\\x0712exalt (Schwarz remix) (Musical Recording)\\tCanonical version\\t12exalt (Canonical Version)\\t.\\n',\n",
       " '\\x0712exalt (Schwarz remix) (Musical Recording)\\tLength\\t\"316.0\"^^<http://www.w3.org/2001/XMLSchema#float>\\t.\\n',\n",
       " '\\x0712exalt (Schwarz remix) (Musical Recording)\\tRecorded by\\tCex\\t.\\n',\n",
       " '\\x0712exalt (Schwarz remix) (Musical Recording)\\tis-a\\tMusical Recording\\t.\\n',\n",
       " '\\x0712exalt (Schwarz remix) (Musical Recording)\\tis-a\\tTopic\\t.\\n',\n",
       " '\\x0712exalt (Schwarz remix) (m/0q8vyqm)\\tRecording\\t\\x0712exalt (Schwarz remix) (Musical Recording)\\t.\\n',\n",
       " '\\x0712exalt (Schwarz remix) (m/0q8vyqm)\\tRelease\\tSecret Monog (Digital media Musical Release)\\t.\\n',\n",
       " '\\x0712exalt (Schwarz remix) (m/0q8vyqm)\\tTrack #\\t\"9\"^^<http://www.w3.org/2001/XMLSchema#int>\\t.\\n',\n",
       " '\\x0712exalt (Schwarz remix) (m/0q8vyqm)\\tis-a\\tRelease track\\t.\\n',\n",
       " '\\x0712exalt (Schwarz remix) (m/0q8vyqm)\\tis-a\\tTopic\\t.\\n',\n",
       " '! ! ! (Canonical Version)\\tLength\\t\"19.0\"^^<http://www.w3.org/2001/XMLSchema#float>\\t.\\n',\n",
       " '! ! ! (Canonical Version)\\tRecorded by\\tDefuse (Musical Group)\\t.\\n',\n",
       " '! ! ! (Canonical Version)\\tis-a\\tCanonical Version\\t.\\n',\n",
       " '! ! ! (Canonical Version)\\tis-a\\tMusical Recording\\t.\\n',\n",
       " '! ! ! (Canonical Version)\\tis-a\\tTopic\\t.\\n',\n",
       " '! ! ! (m/0npdyv1)\\tRecording\\t! ! ! (Canonical Version)\\t.\\n',\n",
       " \"! ! ! (m/0npdyv1)\\tRelease\\tWhat's Right (Gramophone record Musical Release)\\t.\\n\",\n",
       " '! ! ! (m/0npdyv1)\\tTrack #\\t\"7\"^^<http://www.w3.org/2001/XMLSchema#int>\\t.\\n',\n",
       " '! ! ! (m/0npdyv1)\\tis-a\\tRelease track\\t.\\n',\n",
       " '! ! ! (m/0npdyv1)\\tis-a\\tTopic\\t.\\n',\n",
       " '! #*@#*! (Musical Recording)\\tLength\\t\"128.0\"^^<http://www.w3.org/2001/XMLSchema#float>\\t.\\n',\n",
       " '! #*@#*! (Musical Recording)\\tRecorded by\\tThose Bastard Souls\\t.\\n',\n",
       " '! #*@#*! (Musical Recording)\\tRelease\\tTwentieth Century Chemical (Compact Disc Musical Release)\\t.\\n',\n",
       " '! #*@#*! (Musical Recording)\\tis-a\\tCanonical Version\\t.\\n',\n",
       " '! #*@#*! (Musical Recording)\\tis-a\\tMusical Recording\\t.\\n',\n",
       " '! #*@#*! (Musical Recording)\\tis-a\\tTopic\\t.\\n',\n",
       " '! #*@#*! (m/0mjmcy0)\\tRecording\\t! #*@#*! (Musical Recording)\\t.\\n',\n",
       " '! #*@#*! (m/0mjmcy0)\\tRelease\\tTwentieth Century Chemical (Compact Disc Musical Release)\\t.\\n',\n",
       " '! #*@#*! (m/0mjmcy0)\\tTrack #\\t\"6\"^^<http://www.w3.org/2001/XMLSchema#int>\\t.\\n',\n",
       " '! #*@#*! (m/0mjmcy0)\\tis-a\\tRelease track\\t.\\n']"
      ]
     },
     "execution_count": 17,
     "metadata": {},
     "output_type": "execute_result"
    }
   ],
   "source": [
    "N = 30\n",
    "with open(\"data/facts.txt\", \"r\") as myfile:\n",
    "    head = [next(myfile) for x in range(N)]\n",
    "head"
   ]
  },
  {
   "cell_type": "code",
   "execution_count": 18,
   "metadata": {},
   "outputs": [
    {
     "data": {
      "text/plain": [
       "['United States of America\\tprominence-score\\t81032073.1196\\t.\\n',\n",
       " 'deviantART\\tprominence-score\\t66659904.585\\t.\\n',\n",
       " 'God\\tprominence-score\\t39305406.5601\\t.\\n',\n",
       " 'United Kingdom\\tprominence-score\\t25103873.2192\\t.\\n',\n",
       " 'China\\tprominence-score\\t24809674.1574\\t.\\n',\n",
       " 'Canada\\tprominence-score\\t23599885.0118\\t.\\n',\n",
       " 'Europe\\tprominence-score\\t21237423.9199\\t.\\n',\n",
       " 'JavaScript\\tprominence-score\\t21130370.4099\\t.\\n',\n",
       " 'Jesus Christ\\tprominence-score\\t21113728.8766\\t.\\n',\n",
       " 'India\\tprominence-score\\t19666035.563\\t.\\n',\n",
       " 'France\\tprominence-score\\t18401153.0588\\t.\\n',\n",
       " 'Facebook\\tprominence-score\\t17819870.3399\\t.\\n',\n",
       " 'Twitter\\tprominence-score\\t17520646.3663\\t.\\n',\n",
       " 'California\\tprominence-score\\t16711262.5415\\t.\\n',\n",
       " 'Google\\tprominence-score\\t16231835.4281\\t.\\n',\n",
       " 'Japan\\tprominence-score\\t16117429.8324\\t.\\n',\n",
       " 'Israel\\tprominence-score\\t15171351.704\\t.\\n',\n",
       " 'Australia\\tprominence-score\\t15085936.4987\\t.\\n',\n",
       " 'Barack Obama\\tprominence-score\\t14859891.8632\\t.\\n',\n",
       " 'Germany\\tprominence-score\\t14384547.0447\\t.\\n']"
      ]
     },
     "execution_count": 18,
     "metadata": {},
     "output_type": "execute_result"
    }
   ],
   "source": [
    "N = 20\n",
    "with open(\"data/scores.txt\", \"r\") as myfile:\n",
    "    head = [next(myfile) for x in range(N)]\n",
    "\n",
    "head"
   ]
  },
  {
   "cell_type": "code",
   "execution_count": 19,
   "metadata": {},
   "outputs": [
    {
     "data": {
      "text/plain": [
       "['\\x0712exalt (Schwarz remix) (Musical Recording)\\tfreebase-entity\\t<http://rdf.freebase.com/ns/m/0q8d00b>\\t.\\n',\n",
       " '! ! ! (Canonical Version)\\tfreebase-entity\\t<http://rdf.freebase.com/ns/m/0nmcdj3>\\t.\\n',\n",
       " '! #*@#*! (Musical Recording)\\tfreebase-entity\\t<http://rdf.freebase.com/ns/m/0fclfmg>\\t.\\n',\n",
       " '! $%0X? (Or Something) (Musical Recording)\\tfreebase-entity\\t<http://rdf.freebase.com/ns/m/0dst8lq>\\t.\\n',\n",
       " '! ((0rkza1 vs. Kaneel\\tfreebase-entity\\t<http://rdf.freebase.com/ns/m/0d_xx95>\\t.\\n',\n",
       " '! ((0rkza1 vs. Kaneel vs. Urkuma\\tfreebase-entity\\t<http://rdf.freebase.com/ns/m/0fh_n06>\\t.\\n',\n",
       " '! (Foreword) (Musical Recording)\\tfreebase-entity\\t<http://rdf.freebase.com/ns/m/0g6n4gr>\\t.\\n',\n",
       " '! (Retrotech Adjustment) (Musical Recording)\\tfreebase-entity\\t<http://rdf.freebase.com/ns/m/0x5q37>\\t.\\n',\n",
       " '! (Song Formerly Known As)\\tfreebase-entity\\t<http://rdf.freebase.com/ns/m/0l9jqmn>\\t.\\n',\n",
       " '! (Take No) (Canonical Version)\\tfreebase-entity\\t<http://rdf.freebase.com/ns/m/0sn3y2k>\\t.\\n',\n",
       " '! (The Song Formerly Known As) (Consumer product)\\tfreebase-entity\\t<http://rdf.freebase.com/ns/m/030ypnd>\\t.\\n',\n",
       " '! (The Song Formerly Known As) (Composition)\\tfreebase-entity\\t<http://rdf.freebase.com/ns/m/0zll9kk>\\t.\\n',\n",
       " '! (The Song Formerly Known As) (Musical Recording) #1\\tfreebase-entity\\t<http://rdf.freebase.com/ns/m/014m81p>\\t.\\n',\n",
       " '! (The Song Formerly Known As) (Musical Recording) #2\\tfreebase-entity\\t<http://rdf.freebase.com/ns/m/0x5q2t>\\t.\\n',\n",
       " '! (The Song Formerly Known As) (Musical Album)\\tfreebase-entity\\t<http://rdf.freebase.com/ns/m/01kr51g>\\t.\\n',\n",
       " '! (The Song Formerly Known As) (Musical Recording) #3\\tfreebase-entity\\t<http://rdf.freebase.com/ns/m/0x5pbz>\\t.\\n',\n",
       " '! (foreword) (Musical Recording) #1\\tfreebase-entity\\t<http://rdf.freebase.com/ns/m/0164dr_>\\t.\\n',\n",
       " '! (foreword) (Musical Recording) #2\\tfreebase-entity\\t<http://rdf.freebase.com/ns/m/0l_wj5>\\t.\\n',\n",
       " '! (Canonical Version) #1\\tfreebase-entity\\t<http://rdf.freebase.com/ns/m/014z3qq>\\t.\\n',\n",
       " '! (TV Episode)\\tfreebase-entity\\t<http://rdf.freebase.com/ns/m/07mv4pw>\\t.\\n']"
      ]
     },
     "execution_count": 19,
     "metadata": {},
     "output_type": "execute_result"
    }
   ],
   "source": [
    "N = 20\n",
    "with open(\"data/freebase-links.txt\", \"r\") as myfile:\n",
    "    head = [next(myfile) for x in range(N)]\n",
    "head"
   ]
  },
  {
   "cell_type": "code",
   "execution_count": null,
   "metadata": {},
   "outputs": [],
   "source": []
  }
 ],
 "metadata": {
  "kernelspec": {
   "display_name": "Python 3.7.4 64-bit ('base': conda)",
   "language": "python",
   "name": "python37464bitbasecondad8740a4f8eca4c079729b3e8f23ddf31"
  },
  "language_info": {
   "codemirror_mode": {
    "name": "ipython",
    "version": 3
   },
   "file_extension": ".py",
   "mimetype": "text/x-python",
   "name": "python",
   "nbconvert_exporter": "python",
   "pygments_lexer": "ipython3",
   "version": "3.7.4"
  }
 },
 "nbformat": 4,
 "nbformat_minor": 4
}
