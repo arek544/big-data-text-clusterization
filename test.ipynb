{
 "cells": [
  {
   "cell_type": "code",
   "execution_count": 1,
   "metadata": {},
   "outputs": [
    {
     "output_type": "stream",
     "name": "stdout",
     "text": "Book with id 8520 not found\nBook with id 1519 not found\nBook with id 8965 not found\nBook with id 9269 not found\nBook with id 6460 not found\nBook with id 8507 not found\nBook with id 3442 not found\nBook with id 441 not found\nBook with id 8568 not found\nBook with id 9843 not found\nBook with id 13189 not found\nBook with id 3080 not found\nBook with id 3446 not found\nBook with id 7342 not found\nBook with id 2300 not found\nBook with id 4572 not found\nBook with id 3085 not found\nBook with id 7329 not found\nBook with id 931 not found\nBook with id 8628 not found\nBook with id 11798 not found\nBook with id 3704 not found\nBook with id 2210 not found\nBook with id 2336 not found\nBook with id 6937 not found\nBook with id 7329 not found\nBook with id 649 not found\nBook with id 8748 not found\nBook with id 2610 not found\nBook with id 13587 not found\nBook with id 9085 not found\nBook with id 10196 not found\nBook with id 5083 not found\nBook with id 8628 not found\nBook with id 7034 not found\nBook with id 1868 not found\nBook with id 7352 not found\nBook with id 6819 not found\nBook with id 8895 not found\nBook with id 8373 not found\nBook with id 3053 not found\nBook with id 6539 not found\nBook with id 9364 not found\nBook with id 7073 not found\nBook with id 9144 not found\nBook with id 6901 not found\nBook with id 13361 not found\nBook with id 1095 not found\nBook with id 7206 not found\nBook with id 9541 not found\nBook with id 9361 not found\nBook with id 6567 not found\nBook with id 4278 not found\nBook with id 1696 not found\nBook with id 9352 not found\nBook with id 11139 not found\nBook with id 13688 not found\nBook with id 8430 not found\nBook with id 7147 not found\nBook with id 4022 not found\nBook with id 9122 not found\nBook with id 9632 not found\nBook with id 3008 not found\nBook with id 5687 not found\nBook with id 10406 not found\nBook with id 3211 not found\nBook with id 873 not found\nBook with id 142 not found\nBook with id 2210 not found\nBook with id 6923 not found\nBook with id 3717 not found\nBook with id 8925 not found\nBook with id 7236 not found\nBook with id 9419 not found\nBook with id 6745 not found\nBook with id 3538 not found\nBook with id 9064 not found\nBook with id 7812 not found\nBook with id 1073 not found\nBook with id 689 not found\nBook with id 8446 not found\nBook with id 6597 not found\nBook with id 1251 not found\nBook with id 5671 not found\nBook with id 4678 not found\nBook with id 2410 not found\nBook with id 7835 not found\nBook with id 9232 not found\nBook with id 6329 not found\nBook with id 9400 not found\nBook with id 1066 not found\nBook with id 6901 not found\nBook with id 9537 not found\nBook with id 2404 not found\nBook with id 808 not found\nBook with id 8204 not found\nBook with id 8546 not found\nBook with id 8131 not found\nBook with id 7173 not found\nBook with id 10493 not found\nBook with id 8762 not found\nBook with id 4741 not found\nBook with id 3171 not found\nBook with id 6150 not found\nBook with id 539 not found\nBook with id 12850 not found\nBook with id 4022 not found\nBook with id 2887 not found\nBook with id 5273 not found\nBook with id 2840 not found\nBook with id 6495 not found\nBook with id 4677 not found\nBook with id 12266 not found\nBook with id 13712 not found\nBook with id 2152 not found\nBook with id 8821 not found\nBook with id 9008 not found\nBook with id 6473 not found\nBook with id 4397 not found\nBook with id 9672 not found\nBook with id 4505 not found\nBook with id 7340 not found\nBook with id 3712 not found\nBook with id 7943 not found\nBook with id 9111 not found\nBook with id 11776 not found\nBook with id 4240 not found\nBook with id 887 not found\nBook with id 10279 not found\nBook with id 10298 not found\nBook with id 10302 not found\nBook with id 564 not found\nBook with id 11502 not found\nBook with id 6922 not found\nBook with id 9355 not found\nBook with id 2665 not found\nBook with id 11831 not found\nBook with id 5743 not found\nBook with id 9890 not found\nBook with id 7032 not found\nBook with id 9282 not found\nBook with id 9282 not found\nBook with id 3699 not found\nBook with id 13909 not found\nBook with id 12168 not found\nBook with id 7078 not found\nBook with id 8921 not found\nBook with id 902 not found\nBook with id 13464 not found\nBook with id 2780 not found\nBook with id 9049 not found\nBook with id 9277 not found\nBook with id 9018 not found\nBook with id 13598 not found\nBook with id 8295 not found\nBook with id 5653 not found\nBook with id 6892 not found\nBook with id 9145 not found\nBook with id 4708 not found\nBook with id 4502 not found\nBook with id 6141 not found\nBook with id 2678 not found\nBook with id 13686 not found\nBook with id 6756 not found\nBook with id 9828 not found\nBook with id 4261 not found\nBook with id 2228 not found\nBook with id 11834 not found\nBook with id 3145 not found\nBook with id 6049 not found\nBook with id 9051 not found\nBook with id 2208 not found\nBook with id 13972 not found\nBook with id 10178 not found\nBook with id 7855 not found\nBook with id 2829 not found\nBook with id 2890 not found\nBook with id 13374 not found\nBook with id 7271 not found\nBook with id 8622 not found\nBook with id 11638 not found\nBook with id 7342 not found\nBook with id 9644 not found\nBook with id 2863 not found\nBook with id 8688 not found\nBook with id 6905 not found\nBook with id 142 not found\nBook with id 8619 not found\nBook with id 9737 not found\nBook with id 7289 not found\nBook with id 13448 not found\nBook with id 13743 not found\nBook with id 9533 not found\nBook with id 5749 not found\nBook with id 12718 not found\nBook with id 8375 not found\nBook with id 2811 not found\nBook with id 10733 not found\nBook with id 8763 not found\nBook with id 13466 not found\nBook with id 4374 not found\nBook with id 8759 not found\nBook with id 9026 not found\nBook with id 7095 not found\nBook with id 2223 not found\nBook with id 3567 not found\nBook with id 8204 not found\nBook with id 160 not found\nBook with id 999 not found\n"
    }
   ],
   "source": [
    "import urllib.request as url\n",
    "from random import randrange\n",
    "from numpy.random import randint\n",
    "import sys\n",
    "\n",
    "'''\n",
    "Get .txt files from www.gutenberg.org/files\n",
    "'''\n",
    "\n",
    "N_books = 1000\n",
    "books_ids_range = 14000\n",
    "\n",
    "gutenberg_books_ids = randint(books_ids_range, size = N_books)\n",
    "\n",
    "for gutenberg_book_id in gutenberg_books_ids:  \n",
    "    try:\n",
    "        txt = url.urlopen(f'http://www.gutenberg.org/files/{gutenberg_book_id}/{gutenberg_book_id}.txt').read()\n",
    "        if sys.getsizeof(txt) > 0:\n",
    "            with open(f\"data/{gutenberg_book_id}.txt\", 'w+') as out_file:\n",
    "                out_file.write(txt.decode(\"utf-8\"))\n",
    "    except:\n",
    "        print(f\"Book with id {gutenberg_book_id} not found\") "
   ]
  },
  {
   "cell_type": "markdown",
   "metadata": {},
   "source": []
  },
  {
   "cell_type": "code",
   "execution_count": 1,
   "metadata": {},
   "outputs": [
    {
     "output_type": "stream",
     "name": "stdout",
     "text": "+-----+--------------------+\n|   id|                text|\n+-----+--------------------+\n|10010|The Project Guten...|\n+-----+--------------------+\nonly showing top 1 row\n\n"
    }
   ],
   "source": [
    "import os, errno\n",
    "import pandas as pd\n",
    "from pyspark import SparkContext, SparkConf, Row\n",
    "from pyspark.sql import SparkSession\n",
    "\n",
    "sc = SparkContext(conf=SparkConf())\n",
    "\n",
    "spark = SparkSession(sparkContext=sc)\n",
    "books_rdd_list = []\n",
    "directory = r'data/'\n",
    "for filename in os.listdir(directory):\n",
    "    txt = open(\"data/\"+filename).read()\n",
    "    row = Row(id=filename.replace('.txt',''), text=txt)\n",
    "    books_rdd_list.append(row)\n",
    "rdd = sc.parallelize(books_rdd_list)\n",
    "rdd.flatMap(lambda x: (x,)).toDF().show(1)"
   ]
  },
  {
   "cell_type": "code",
   "execution_count": 2,
   "metadata": {},
   "outputs": [
    {
     "output_type": "stream",
     "name": "stdout",
     "text": "+-----+--------------------+\n|   id|                text|\n+-----+--------------------+\n|10010|The Project Guten...|\n|10019|Project Gutenberg...|\n| 1002|The Project Guten...|\n|10020|The Project Guten...|\n|10037|Project Gutenberg...|\n|10042|The Project Guten...|\n|10046|The Project Guten...|\n|10061|The Project Guten...|\n|10074|The Project Guten...|\n|10077|The Project Guten...|\n|10088|The Project Guten...|\n|10090|The Project Guten...|\n|10098|The Project Guten...|\n|10109|The Project Guten...|\n|10110|The Project Guten...|\n|10111|The Project Guten...|\n|10119|The Project Guten...|\n|10130|The Project Guten...|\n|10144|The Project Guten...|\n|10149|The Project Guten...|\n+-----+--------------------+\nonly showing top 20 rows\n\n"
    }
   ],
   "source": [
    "rdd.flatMap(lambda x: (x,)).toDF().show()"
   ]
  },
  {
   "cell_type": "code",
   "execution_count": 3,
   "metadata": {},
   "outputs": [],
   "source": [
    "\n",
    "import findspark\n",
    "findspark.init()"
   ]
  },
  {
   "cell_type": "code",
   "execution_count": 6,
   "metadata": {},
   "outputs": [
    {
     "output_type": "error",
     "ename": "Py4JError",
     "evalue": "An error occurred while calling o65.take. Trace:\npy4j.Py4JException: Method take([class java.lang.Integer]) does not exist\r\n\tat py4j.reflection.ReflectionEngine.getMethod(ReflectionEngine.java:318)\r\n\tat py4j.reflection.ReflectionEngine.getMethod(ReflectionEngine.java:326)\r\n\tat py4j.Gateway.invoke(Gateway.java:274)\r\n\tat py4j.commands.AbstractCommand.invokeMethod(AbstractCommand.java:132)\r\n\tat py4j.commands.CallCommand.execute(CallCommand.java:79)\r\n\tat py4j.GatewayConnection.run(GatewayConnection.java:238)\r\n\tat java.lang.Thread.run(Unknown Source)\r\n\n",
     "traceback": [
      "\u001b[1;31m---------------------------------------------------------------------------\u001b[0m",
      "\u001b[1;31mPy4JError\u001b[0m                                 Traceback (most recent call last)",
      "\u001b[1;32m<ipython-input-6-7ca4bf7afed5>\u001b[0m in \u001b[0;36m<module>\u001b[1;34m\u001b[0m\n\u001b[0;32m      9\u001b[0m \u001b[0mvectors\u001b[0m \u001b[1;33m=\u001b[0m \u001b[0mmodel\u001b[0m\u001b[1;33m.\u001b[0m\u001b[0mgetVectors\u001b[0m\u001b[1;33m(\u001b[0m\u001b[1;33m)\u001b[0m\u001b[1;33m\u001b[0m\u001b[1;33m\u001b[0m\u001b[0m\n\u001b[0;32m     10\u001b[0m \u001b[1;33m\u001b[0m\u001b[0m\n\u001b[1;32m---> 11\u001b[1;33m \u001b[0mvectors\u001b[0m\u001b[1;33m.\u001b[0m\u001b[0mtake\u001b[0m\u001b[1;33m(\u001b[0m\u001b[1;36m1\u001b[0m\u001b[1;33m)\u001b[0m\u001b[1;33m\u001b[0m\u001b[1;33m\u001b[0m\u001b[0m\n\u001b[0m",
      "\u001b[1;32m~\\AppData\\Local\\Programs\\Python\\Python37-32\\lib\\site-packages\\py4j\\java_gateway.py\u001b[0m in \u001b[0;36m__call__\u001b[1;34m(self, *args)\u001b[0m\n\u001b[0;32m   1255\u001b[0m         \u001b[0manswer\u001b[0m \u001b[1;33m=\u001b[0m \u001b[0mself\u001b[0m\u001b[1;33m.\u001b[0m\u001b[0mgateway_client\u001b[0m\u001b[1;33m.\u001b[0m\u001b[0msend_command\u001b[0m\u001b[1;33m(\u001b[0m\u001b[0mcommand\u001b[0m\u001b[1;33m)\u001b[0m\u001b[1;33m\u001b[0m\u001b[1;33m\u001b[0m\u001b[0m\n\u001b[0;32m   1256\u001b[0m         return_value = get_return_value(\n\u001b[1;32m-> 1257\u001b[1;33m             answer, self.gateway_client, self.target_id, self.name)\n\u001b[0m\u001b[0;32m   1258\u001b[0m \u001b[1;33m\u001b[0m\u001b[0m\n\u001b[0;32m   1259\u001b[0m         \u001b[1;32mfor\u001b[0m \u001b[0mtemp_arg\u001b[0m \u001b[1;32min\u001b[0m \u001b[0mtemp_args\u001b[0m\u001b[1;33m:\u001b[0m\u001b[1;33m\u001b[0m\u001b[1;33m\u001b[0m\u001b[0m\n",
      "\u001b[1;32m~\\AppData\\Local\\Programs\\Python\\Python37-32\\lib\\site-packages\\py4j\\protocol.py\u001b[0m in \u001b[0;36mget_return_value\u001b[1;34m(answer, gateway_client, target_id, name)\u001b[0m\n\u001b[0;32m    330\u001b[0m                 raise Py4JError(\n\u001b[0;32m    331\u001b[0m                     \u001b[1;34m\"An error occurred while calling {0}{1}{2}. Trace:\\n{3}\\n\"\u001b[0m\u001b[1;33m.\u001b[0m\u001b[1;33m\u001b[0m\u001b[1;33m\u001b[0m\u001b[0m\n\u001b[1;32m--> 332\u001b[1;33m                     format(target_id, \".\", name, value))\n\u001b[0m\u001b[0;32m    333\u001b[0m         \u001b[1;32melse\u001b[0m\u001b[1;33m:\u001b[0m\u001b[1;33m\u001b[0m\u001b[1;33m\u001b[0m\u001b[0m\n\u001b[0;32m    334\u001b[0m             raise Py4JError(\n",
      "\u001b[1;31mPy4JError\u001b[0m: An error occurred while calling o65.take. Trace:\npy4j.Py4JException: Method take([class java.lang.Integer]) does not exist\r\n\tat py4j.reflection.ReflectionEngine.getMethod(ReflectionEngine.java:318)\r\n\tat py4j.reflection.ReflectionEngine.getMethod(ReflectionEngine.java:326)\r\n\tat py4j.Gateway.invoke(Gateway.java:274)\r\n\tat py4j.commands.AbstractCommand.invokeMethod(AbstractCommand.java:132)\r\n\tat py4j.commands.CallCommand.execute(CallCommand.java:79)\r\n\tat py4j.GatewayConnection.run(GatewayConnection.java:238)\r\n\tat java.lang.Thread.run(Unknown Source)\r\n\n"
     ]
    }
   ],
   "source": [
    "from pyspark.mllib.feature import Word2Vec\n",
    "from pyspark import SparkContext, SparkConf\n",
    "\n",
    "sc = SparkContext(conf=SparkConf())\n",
    "inp = sc.textFile(\"data/2.txt\").map(lambda row: row.split(\" \"))\n",
    "\n",
    "word2vec = Word2Vec()\n",
    "model = word2vec.fit(inp)\n",
    "\n",
    "vectors = model.getVectors()\n",
    "\n",
    "vectors.take(1)"
   ]
  },
  {
   "cell_type": "markdown",
   "metadata": {},
   "source": []
  },
  {
   "cell_type": "code",
   "execution_count": null,
   "metadata": {},
   "outputs": [],
   "source": []
  }
 ],
 "metadata": {
  "language_info": {
   "codemirror_mode": {
    "name": "ipython",
    "version": 3
   },
   "file_extension": ".py",
   "mimetype": "text/x-python",
   "name": "python",
   "nbconvert_exporter": "python",
   "pygments_lexer": "ipython3",
   "version": "3.7.2-final"
  },
  "orig_nbformat": 2,
  "kernelspec": {
   "name": "python37232bitf37ed9b0598d4b7c9873e51d2b1e4d76",
   "display_name": "Python 3.7.2 32-bit"
  }
 },
 "nbformat": 4,
 "nbformat_minor": 2
}