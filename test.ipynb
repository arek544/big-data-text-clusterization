{
 "cells": [
  {
   "cell_type": "code",
   "execution_count": 1,
   "metadata": {},
   "outputs": [
    {
     "output_type": "stream",
     "name": "stdout",
     "text": "Book with id 8520 not found\nBook with id 1519 not found\nBook with id 8965 not found\nBook with id 9269 not found\nBook with id 6460 not found\nBook with id 8507 not found\nBook with id 3442 not found\nBook with id 441 not found\nBook with id 8568 not found\nBook with id 9843 not found\nBook with id 13189 not found\nBook with id 3080 not found\nBook with id 3446 not found\nBook with id 7342 not found\nBook with id 2300 not found\nBook with id 4572 not found\nBook with id 3085 not found\nBook with id 7329 not found\nBook with id 931 not found\nBook with id 8628 not found\nBook with id 11798 not found\nBook with id 3704 not found\nBook with id 2210 not found\nBook with id 2336 not found\nBook with id 6937 not found\nBook with id 7329 not found\nBook with id 649 not found\nBook with id 8748 not found\nBook with id 2610 not found\nBook with id 13587 not found\nBook with id 9085 not found\nBook with id 10196 not found\nBook with id 5083 not found\nBook with id 8628 not found\nBook with id 7034 not found\nBook with id 1868 not found\nBook with id 7352 not found\nBook with id 6819 not found\nBook with id 8895 not found\nBook with id 8373 not found\nBook with id 3053 not found\nBook with id 6539 not found\nBook with id 9364 not found\nBook with id 7073 not found\nBook with id 9144 not found\nBook with id 6901 not found\nBook with id 13361 not found\nBook with id 1095 not found\nBook with id 7206 not found\nBook with id 9541 not found\nBook with id 9361 not found\nBook with id 6567 not found\nBook with id 4278 not found\nBook with id 1696 not found\nBook with id 9352 not found\nBook with id 11139 not found\nBook with id 13688 not found\nBook with id 8430 not found\nBook with id 7147 not found\nBook with id 4022 not found\nBook with id 9122 not found\nBook with id 9632 not found\nBook with id 3008 not found\nBook with id 5687 not found\nBook with id 10406 not found\nBook with id 3211 not found\nBook with id 873 not found\nBook with id 142 not found\nBook with id 2210 not found\nBook with id 6923 not found\nBook with id 3717 not found\nBook with id 8925 not found\nBook with id 7236 not found\nBook with id 9419 not found\nBook with id 6745 not found\nBook with id 3538 not found\nBook with id 9064 not found\nBook with id 7812 not found\nBook with id 1073 not found\nBook with id 689 not found\nBook with id 8446 not found\nBook with id 6597 not found\nBook with id 1251 not found\nBook with id 5671 not found\nBook with id 4678 not found\nBook with id 2410 not found\nBook with id 7835 not found\nBook with id 9232 not found\nBook with id 6329 not found\nBook with id 9400 not found\nBook with id 1066 not found\nBook with id 6901 not found\nBook with id 9537 not found\nBook with id 2404 not found\nBook with id 808 not found\nBook with id 8204 not found\nBook with id 8546 not found\nBook with id 8131 not found\nBook with id 7173 not found\nBook with id 10493 not found\nBook with id 8762 not found\nBook with id 4741 not found\nBook with id 3171 not found\nBook with id 6150 not found\nBook with id 539 not found\nBook with id 12850 not found\nBook with id 4022 not found\nBook with id 2887 not found\nBook with id 5273 not found\nBook with id 2840 not found\nBook with id 6495 not found\nBook with id 4677 not found\nBook with id 12266 not found\nBook with id 13712 not found\nBook with id 2152 not found\nBook with id 8821 not found\nBook with id 9008 not found\nBook with id 6473 not found\nBook with id 4397 not found\nBook with id 9672 not found\nBook with id 4505 not found\nBook with id 7340 not found\nBook with id 3712 not found\nBook with id 7943 not found\nBook with id 9111 not found\nBook with id 11776 not found\nBook with id 4240 not found\nBook with id 887 not found\nBook with id 10279 not found\nBook with id 10298 not found\nBook with id 10302 not found\nBook with id 564 not found\nBook with id 11502 not found\nBook with id 6922 not found\nBook with id 9355 not found\nBook with id 2665 not found\nBook with id 11831 not found\nBook with id 5743 not found\nBook with id 9890 not found\nBook with id 7032 not found\nBook with id 9282 not found\nBook with id 9282 not found\nBook with id 3699 not found\nBook with id 13909 not found\nBook with id 12168 not found\nBook with id 7078 not found\nBook with id 8921 not found\nBook with id 902 not found\nBook with id 13464 not found\nBook with id 2780 not found\nBook with id 9049 not found\nBook with id 9277 not found\nBook with id 9018 not found\nBook with id 13598 not found\nBook with id 8295 not found\nBook with id 5653 not found\nBook with id 6892 not found\nBook with id 9145 not found\nBook with id 4708 not found\nBook with id 4502 not found\nBook with id 6141 not found\nBook with id 2678 not found\nBook with id 13686 not found\nBook with id 6756 not found\nBook with id 9828 not found\nBook with id 4261 not found\nBook with id 2228 not found\nBook with id 11834 not found\nBook with id 3145 not found\nBook with id 6049 not found\nBook with id 9051 not found\nBook with id 2208 not found\nBook with id 13972 not found\nBook with id 10178 not found\nBook with id 7855 not found\nBook with id 2829 not found\nBook with id 2890 not found\nBook with id 13374 not found\nBook with id 7271 not found\nBook with id 8622 not found\nBook with id 11638 not found\nBook with id 7342 not found\nBook with id 9644 not found\nBook with id 2863 not found\nBook with id 8688 not found\nBook with id 6905 not found\nBook with id 142 not found\nBook with id 8619 not found\nBook with id 9737 not found\nBook with id 7289 not found\nBook with id 13448 not found\nBook with id 13743 not found\nBook with id 9533 not found\nBook with id 5749 not found\nBook with id 12718 not found\nBook with id 8375 not found\nBook with id 2811 not found\nBook with id 10733 not found\nBook with id 8763 not found\nBook with id 13466 not found\nBook with id 4374 not found\nBook with id 8759 not found\nBook with id 9026 not found\nBook with id 7095 not found\nBook with id 2223 not found\nBook with id 3567 not found\nBook with id 8204 not found\nBook with id 160 not found\nBook with id 999 not found\n"
    }
   ],
   "source": [
    "import urllib.request as url\n",
    "from random import randrange\n",
    "from numpy.random import randint\n",
    "import sys\n",
    "\n",
    "'''\n",
    "Get .txt files from www.gutenberg.org/files\n",
    "'''\n",
    "\n",
    "N_books = 1000\n",
    "books_ids_range = 14000\n",
    "\n",
    "gutenberg_books_ids = randint(books_ids_range, size = N_books)\n",
    "\n",
    "for gutenberg_book_id in gutenberg_books_ids:  \n",
    "    try:\n",
    "        txt = url.urlopen(f'http://www.gutenberg.org/files/{gutenberg_book_id}/{gutenberg_book_id}.txt').read()\n",
    "        if sys.getsizeof(txt) > 0:\n",
    "            with open(f\"data/{gutenberg_book_id}.txt\", 'w+') as out_file:\n",
    "                out_file.write(txt.decode(\"utf-8\"))\n",
    "    except:\n",
    "        print(f\"Book with id {gutenberg_book_id} not found\") "
   ]
  },
  {
   "cell_type": "code",
   "execution_count": null,
   "metadata": {},
   "outputs": [],
   "source": []
  }
 ],
 "metadata": {
  "language_info": {
   "codemirror_mode": {
    "name": "ipython",
    "version": 3
   },
   "file_extension": ".py",
   "mimetype": "text/x-python",
   "name": "python",
   "nbconvert_exporter": "python",
   "pygments_lexer": "ipython3",
   "version": "3.7.2-final"
  },
  "orig_nbformat": 2,
  "kernelspec": {
   "name": "python37232bitf37ed9b0598d4b7c9873e51d2b1e4d76",
   "display_name": "Python 3.7.2 32-bit"
  }
 },
 "nbformat": 4,
 "nbformat_minor": 2
}