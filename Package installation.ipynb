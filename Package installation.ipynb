{
 "cells": [
  {
   "cell_type": "code",
   "execution_count": 19,
   "metadata": {},
   "outputs": [
    {
     "name": "stdout",
     "output_type": "stream",
     "text": [
      "Collecting unidecode\n",
      "  Downloading Unidecode-1.1.1-py2.py3-none-any.whl (238 kB)\n",
      "\u001b[K     |████████████████████████████████| 238 kB 286 kB/s eta 0:00:0101     |██▊                             | 20 kB 286 kB/s eta 0:00:01\n",
      "\u001b[?25hInstalling collected packages: unidecode\n",
      "Successfully installed unidecode-1.1.1\n"
     ]
    }
   ],
   "source": [
    "!pip install unidecode"
   ]
  },
  {
   "cell_type": "code",
   "execution_count": 24,
   "metadata": {},
   "outputs": [
    {
     "name": "stdout",
     "output_type": "stream",
     "text": [
      "Collecting gutenberg\n",
      "  Using cached Gutenberg-0.8.1.tar.gz (19 kB)\n",
      "Collecting SPARQLWrapper>=1.8.2\n",
      "  Using cached SPARQLWrapper-1.8.5-py3-none-any.whl (26 kB)\n",
      "Collecting bsddb3>=6.1.0\n",
      "  Using cached bsddb3-6.2.7.tar.gz (437 kB)\n",
      "Collecting future>=0.15.2\n",
      "  Downloading future-0.18.2.tar.gz (829 kB)\n",
      "\u001b[K     |███████████████████████████████▋| 819 kB 282 kB/s eta 0:00:01     |████████████████████████████████| 829 kB 282 kB/s \n",
      "\u001b[?25hCollecting rdflib-sqlalchemy>=0.3.8\n",
      "  Downloading rdflib_sqlalchemy-0.4.0-py3-none-any.whl (18 kB)\n",
      "Collecting rdflib<5.0.0,>=4.2.0\n",
      "  Downloading rdflib-4.2.2-py3-none-any.whl (344 kB)\n",
      "\u001b[K     |████████████████████████████████| 344 kB 416 kB/s eta 0:00:01     |███████████████████████████▋    | 296 kB 416 kB/s eta 0:00:01\n",
      "\u001b[?25hRequirement already satisfied: requests>=2.5.1 in /opt/conda/lib/python3.7/site-packages (from gutenberg) (2.23.0)\n",
      "Requirement already satisfied: setuptools>=18.5 in /opt/conda/lib/python3.7/site-packages (from gutenberg) (47.1.1.post20200529)\n",
      "Requirement already satisfied: six>=1.10.0 in /opt/conda/lib/python3.7/site-packages (from gutenberg) (1.15.0)\n",
      "Requirement already satisfied: alembic>=0.8.8 in /opt/conda/lib/python3.7/site-packages (from rdflib-sqlalchemy>=0.3.8->gutenberg) (1.4.2)\n",
      "Requirement already satisfied: SQLAlchemy>=1.1.4 in /opt/conda/lib/python3.7/site-packages (from rdflib-sqlalchemy>=0.3.8->gutenberg) (1.3.17)\n",
      "Requirement already satisfied: pyparsing in /opt/conda/lib/python3.7/site-packages (from rdflib<5.0.0,>=4.2.0->gutenberg) (2.4.7)\n",
      "Collecting isodate\n",
      "  Downloading isodate-0.6.0-py2.py3-none-any.whl (45 kB)\n",
      "\u001b[K     |████████████████████████████████| 45 kB 1.2 MB/s  eta 0:00:01\n",
      "\u001b[?25hRequirement already satisfied: idna<3,>=2.5 in /opt/conda/lib/python3.7/site-packages (from requests>=2.5.1->gutenberg) (2.9)\n",
      "Requirement already satisfied: certifi>=2017.4.17 in /opt/conda/lib/python3.7/site-packages (from requests>=2.5.1->gutenberg) (2020.4.5.2)\n",
      "Requirement already satisfied: urllib3!=1.25.0,!=1.25.1,<1.26,>=1.21.1 in /opt/conda/lib/python3.7/site-packages (from requests>=2.5.1->gutenberg) (1.25.9)\n",
      "Requirement already satisfied: chardet<4,>=3.0.2 in /opt/conda/lib/python3.7/site-packages (from requests>=2.5.1->gutenberg) (3.0.4)\n",
      "Requirement already satisfied: python-editor>=0.3 in /opt/conda/lib/python3.7/site-packages (from alembic>=0.8.8->rdflib-sqlalchemy>=0.3.8->gutenberg) (1.0.4)\n",
      "Requirement already satisfied: python-dateutil in /opt/conda/lib/python3.7/site-packages (from alembic>=0.8.8->rdflib-sqlalchemy>=0.3.8->gutenberg) (2.8.1)\n",
      "Requirement already satisfied: Mako in /opt/conda/lib/python3.7/site-packages (from alembic>=0.8.8->rdflib-sqlalchemy>=0.3.8->gutenberg) (1.1.0)\n",
      "Requirement already satisfied: MarkupSafe>=0.9.2 in /opt/conda/lib/python3.7/site-packages (from Mako->alembic>=0.8.8->rdflib-sqlalchemy>=0.3.8->gutenberg) (1.1.1)\n",
      "Building wheels for collected packages: gutenberg, bsddb3, future\n",
      "  Building wheel for gutenberg (setup.py) ... \u001b[?25ldone\n",
      "\u001b[?25h  Created wheel for gutenberg: filename=Gutenberg-0.8.1-py3-none-any.whl size=22236 sha256=f6a31c5bb1a21396aa4d0b6c47cd13bfe738f04809503e3c304088c03edca85d\n",
      "  Stored in directory: /home/jovyan/.cache/pip/wheels/cb/c2/c3/17d6ce99a54f6f850047cb089c7d649d6af8048bc3f186b019\n",
      "  Building wheel for bsddb3 (setup.py) ... \u001b[?25ldone\n",
      "\u001b[?25h  Created wheel for bsddb3: filename=bsddb3-6.2.7-cp37-cp37m-linux_x86_64.whl size=325206 sha256=ac405e3e0f28abe70f40ca4b929bb5bfb8beb2b36865833146cffeec4bbd8cbb\n",
      "  Stored in directory: /home/jovyan/.cache/pip/wheels/88/7b/0a/9c7527a300d490202b5aa212041209243bc0574df0fe7eb291\n",
      "  Building wheel for future (setup.py) ... \u001b[?25ldone\n",
      "\u001b[?25h  Created wheel for future: filename=future-0.18.2-py3-none-any.whl size=491058 sha256=c04ba8b78eff94f68afab8050a063f32a7e83f2bbbe35379acbc2c985cab4c8c\n",
      "  Stored in directory: /home/jovyan/.cache/pip/wheels/56/b0/fe/4410d17b32f1f0c3cf54cdfb2bc04d7b4b8f4ae377e2229ba0\n",
      "Successfully built gutenberg bsddb3 future\n",
      "Installing collected packages: isodate, rdflib, SPARQLWrapper, bsddb3, future, rdflib-sqlalchemy, gutenberg\n",
      "Successfully installed SPARQLWrapper-1.8.5 bsddb3-6.2.7 future-0.18.2 gutenberg-0.8.1 isodate-0.6.0 rdflib-4.2.2 rdflib-sqlalchemy-0.4.0\n"
     ]
    }
   ],
   "source": [
    "!pip install gutenberg"
   ]
  },
  {
   "cell_type": "code",
   "execution_count": 29,
   "metadata": {},
   "outputs": [
    {
     "name": "stdout",
     "output_type": "stream",
     "text": [
      "Collecting nltk\n",
      "  Downloading nltk-3.5.zip (1.4 MB)\n",
      "\u001b[K     |████████████████████████████████| 1.4 MB 352 kB/s eta 0:00:01     |███████████████████▋            | 880 kB 344 kB/s eta 0:00:02     |███████████████████████████▏    | 1.2 MB 352 kB/s eta 0:00:01     |█████████████████████████████▎  | 1.3 MB 352 kB/s eta 0:00:01\n",
      "\u001b[?25hRequirement already satisfied: click in /opt/conda/lib/python3.7/site-packages (from nltk) (7.1.2)\n",
      "Requirement already satisfied: joblib in /opt/conda/lib/python3.7/site-packages (from nltk) (0.15.1)\n",
      "Collecting regex\n",
      "  Downloading regex-2020.6.8-cp37-cp37m-manylinux2010_x86_64.whl (661 kB)\n",
      "\u001b[K     |████████████████████████████████| 661 kB 320 kB/s eta 0:00:01    |█                               | 20 kB 152 kB/s eta 0:00:05     |█████████▍                      | 194 kB 257 kB/s eta 0:00:02     |█████████████████████████▎      | 522 kB 320 kB/s eta 0:00:01\n",
      "\u001b[?25hRequirement already satisfied: tqdm in /opt/conda/lib/python3.7/site-packages (from nltk) (4.46.1)\n",
      "Building wheels for collected packages: nltk\n",
      "  Building wheel for nltk (setup.py) ... \u001b[?25ldone\n",
      "\u001b[?25h  Created wheel for nltk: filename=nltk-3.5-py3-none-any.whl size=1434677 sha256=e572db7351135c865da6b1887242a78a41fc71483f8c149c14e1b27ec4842bc9\n",
      "  Stored in directory: /home/jovyan/.cache/pip/wheels/45/6c/46/a1865e7ba706b3817f5d1b2ff7ce8996aabdd0d03d47ba0266\n",
      "Successfully built nltk\n",
      "Installing collected packages: regex, nltk\n",
      "Successfully installed nltk-3.5 regex-2020.6.8\n"
     ]
    }
   ],
   "source": [
    "!pip install nltk"
   ]
  }
 ],
 "metadata": {
  "kernelspec": {
   "display_name": "Python 3",
   "language": "python",
   "name": "python3"
  },
  "language_info": {
   "name": ""
  }
 },
 "nbformat": 4,
 "nbformat_minor": 4
}
